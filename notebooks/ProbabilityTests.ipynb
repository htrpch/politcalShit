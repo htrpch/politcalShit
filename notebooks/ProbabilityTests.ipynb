{
 "cells": [
  {
   "cell_type": "code",
   "execution_count": 1,
   "metadata": {},
   "outputs": [],
   "source": [
    "%load_ext autoreload\n",
    "%autoreload 2\n",
    "\n",
    "import pandas as pd\n",
    "import numpy as np\n",
    "import seaborn as sns\n",
    "import matplotlib.pyplot as plt\n",
    "import sys \n",
    "\n",
    "sns.set()\n",
    "sys.path.append(\"../src/\")\n",
    "\n",
    "from models import SimulateStatement, Model\n",
    "from modelstats import ModelStats\n",
    "\n",
    "from dataclasses import dataclass"
   ]
  },
  {
   "cell_type": "code",
   "execution_count": 4,
   "metadata": {},
   "outputs": [],
   "source": [
    "# sys.path.append(\"../data/\")\n",
    "\n",
    "data_path = \"../data/DATA_FINAL.csv\"\n",
    "data_deputados_path = \"../data/DEPUTADOS_FINAL.csv\"\n",
    "\n",
    "Experimento = ModelStats(data_path, data_deputados_path)\n",
    "\n",
    "lambd = 0.6\n",
    "delta = 0.3\n",
    "lag = 100"
   ]
  },
  {
   "cell_type": "code",
   "execution_count": 5,
   "metadata": {},
   "outputs": [
    {
     "name": "stderr",
     "output_type": "stream",
     "text": [
      "/Users/joao/politcalShit/notebooks/../src/modelstats.py:112: FutureWarning: The behavior of `series[i:j]` with an integer-dtype index is deprecated. In a future version, this will be treated as *label-based* indexing, consistent with e.g. `series[i]` lookups. To retain the old behavior, use `series.iloc[i:j]`. To get the future behavior, use `series.loc[i:j]`.\n",
      "  tempo = self.df.time[1::lag]\n",
      "100%|██████████| 122/122 [00:26<00:00,  4.63it/s]\n"
     ]
    }
   ],
   "source": [
    "changes,  Plista, tot_sets = Experimento.get_changes_df_interval(lambd,delta,lag)"
   ]
  },
  {
   "cell_type": "code",
   "execution_count": 1,
   "metadata": {},
   "outputs": [
    {
     "ename": "NameError",
     "evalue": "name 'dataclass' is not defined",
     "output_type": "error",
     "traceback": [
      "\u001b[0;31m---------------------------------------------------------------------------\u001b[0m",
      "\u001b[0;31mNameError\u001b[0m                                 Traceback (most recent call last)",
      "\u001b[1;32m/Users/joao/politcalShit/notebooks/ProbabilityTests.ipynb Cell 4\u001b[0m line \u001b[0;36m1\n\u001b[0;32m----> <a href='vscode-notebook-cell:/Users/joao/politcalShit/notebooks/ProbabilityTests.ipynb#W3sZmlsZQ%3D%3D?line=0'>1</a>\u001b[0m \u001b[39m@dataclass\u001b[39m\n\u001b[1;32m      <a href='vscode-notebook-cell:/Users/joao/politcalShit/notebooks/ProbabilityTests.ipynb#W3sZmlsZQ%3D%3D?line=1'>2</a>\u001b[0m \u001b[39mclass\u001b[39;00m \u001b[39mOpinionHistogram\u001b[39;00m:\n\u001b[1;32m      <a href='vscode-notebook-cell:/Users/joao/politcalShit/notebooks/ProbabilityTests.ipynb#W3sZmlsZQ%3D%3D?line=2'>3</a>\u001b[0m \u001b[39m    \u001b[39m\u001b[39m\"\"\"Class for identifying a single politician opinion\"\"\"\u001b[39;00m\n\u001b[1;32m      <a href='vscode-notebook-cell:/Users/joao/politcalShit/notebooks/ProbabilityTests.ipynb#W3sZmlsZQ%3D%3D?line=3'>4</a>\u001b[0m     bins: \u001b[39mlist\u001b[39m[\u001b[39mint\u001b[39m]\n",
      "\u001b[0;31mNameError\u001b[0m: name 'dataclass' is not defined"
     ]
    }
   ],
   "source": [
    "@dataclass\n",
    "class OpinionHistogram:\n",
    "    \"\"\"Class for identifying a single politician opinion\"\"\"\n",
    "    bins: list[int]\n",
    "    opinion: list[int] \n",
    "\n",
    "@dataclass\n",
    "class ScoreHistogram:\n",
    "    \"\"\"Class for identifying a single politician opinion\"\"\"\n",
    "    politician_id: list[int]\n",
    "    opinion: list[int]"
   ]
  },
  {
   "cell_type": "code",
   "execution_count": null,
   "metadata": {},
   "outputs": [],
   "source": []
  }
 ],
 "metadata": {
  "kernelspec": {
   "display_name": "Python 3",
   "language": "python",
   "name": "python3"
  },
  "language_info": {
   "codemirror_mode": {
    "name": "ipython",
    "version": 3
   },
   "file_extension": ".py",
   "mimetype": "text/x-python",
   "name": "python",
   "nbconvert_exporter": "python",
   "pygments_lexer": "ipython3",
   "version": "3.9.17"
  },
  "orig_nbformat": 4
 },
 "nbformat": 4,
 "nbformat_minor": 2
}
