{
 "cells": [
  {
   "cell_type": "code",
   "execution_count": 12,
   "metadata": {},
   "outputs": [],
   "source": [
    "from dataclasses import dataclass\n",
    "from datetime import datetime\n",
    "\n",
    "#PLista deve ser substituido por essa classe\n"
   ]
  },
  {
   "cell_type": "code",
   "execution_count": 14,
   "metadata": {},
   "outputs": [],
   "source": [
    "politicians_list = [PoliticianOpinion(123,1),PoliticianOpinion(123,1),PoliticianOpinion(123,1),PoliticianOpinion(123,1)]\n",
    "tempo = datetime(2012,11,11)\n",
    "\n",
    "a = PoliticiansOpinionInTime(politicians_list, tempo)"
   ]
  },
  {
   "cell_type": "code",
   "execution_count": 15,
   "metadata": {},
   "outputs": [
    {
     "data": {
      "text/plain": [
       "PoliticiansOpinionInTime(politicians_opinions=[PoliticianOpinion(politician_id=123, opinion=1), PoliticianOpinion(politician_id=123, opinion=1), PoliticianOpinion(politician_id=123, opinion=1), PoliticianOpinion(politician_id=123, opinion=1)], datetime=datetime.datetime(2012, 11, 11, 0, 0))"
      ]
     },
     "execution_count": 15,
     "metadata": {},
     "output_type": "execute_result"
    }
   ],
   "source": [
    "a"
   ]
  },
  {
   "cell_type": "code",
   "execution_count": null,
   "metadata": {},
   "outputs": [],
   "source": []
  }
 ],
 "metadata": {
  "kernelspec": {
   "display_name": "Python 3",
   "language": "python",
   "name": "python3"
  },
  "language_info": {
   "codemirror_mode": {
    "name": "ipython",
    "version": 3
   },
   "file_extension": ".py",
   "mimetype": "text/x-python",
   "name": "python",
   "nbconvert_exporter": "python",
   "pygments_lexer": "ipython3",
   "version": "3.9.17"
  },
  "orig_nbformat": 4
 },
 "nbformat": 4,
 "nbformat_minor": 2
}
