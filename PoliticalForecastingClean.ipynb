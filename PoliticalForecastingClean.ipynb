{
  "nbformat": 4,
  "nbformat_minor": 0,
  "metadata": {
    "kernelspec": {
      "display_name": "Python 3",
      "language": "python",
      "name": "python3"
    },
    "language_info": {
      "codemirror_mode": {
        "name": "ipython",
        "version": 3
      },
      "file_extension": ".py",
      "mimetype": "text/x-python",
      "name": "python",
      "nbconvert_exporter": "python",
      "pygments_lexer": "ipython3",
      "version": "3.6.8"
    },
    "colab": {
      "name": "PoliticalForecastingClean.ipynb",
      "provenance": [],
      "collapsed_sections": [],
      "toc_visible": true
    }
  },
  "cells": [
    {
      "cell_type": "markdown",
      "metadata": {
        "id": "aMFUye5GhDzU"
      },
      "source": [
        "# Political Forecasting"
      ]
    },
    {
      "cell_type": "code",
      "metadata": {
        "id": "2J5yRY6JhDzW"
      },
      "source": [
        "import numpy as np\n",
        "import pandas as pd\n",
        "import matplotlib.pyplot as plt\n",
        "import time\n",
        "\n",
        "from celluloid import Camera"
      ],
      "execution_count": null,
      "outputs": []
    },
    {
      "cell_type": "code",
      "metadata": {
        "id": "0OHccm27O-O6",
        "colab": {
          "base_uri": "https://localhost:8080/"
        },
        "outputId": "65f3ea98-c147-4e0b-904d-1d735aa67d9a"
      },
      "source": [
        "!pip install celluloid"
      ],
      "execution_count": null,
      "outputs": [
        {
          "output_type": "stream",
          "text": [
            "Collecting celluloid\n",
            "  Downloading https://files.pythonhosted.org/packages/60/a7/7fbe80721c6f1b7370c4e50c77abe31b4d5cfeb58873d4d32f48ae5a0bae/celluloid-0.2.0-py3-none-any.whl\n",
            "Requirement already satisfied: matplotlib in /usr/local/lib/python3.6/dist-packages (from celluloid) (3.2.2)\n",
            "Requirement already satisfied: cycler>=0.10 in /usr/local/lib/python3.6/dist-packages (from matplotlib->celluloid) (0.10.0)\n",
            "Requirement already satisfied: numpy>=1.11 in /usr/local/lib/python3.6/dist-packages (from matplotlib->celluloid) (1.19.4)\n",
            "Requirement already satisfied: python-dateutil>=2.1 in /usr/local/lib/python3.6/dist-packages (from matplotlib->celluloid) (2.8.1)\n",
            "Requirement already satisfied: kiwisolver>=1.0.1 in /usr/local/lib/python3.6/dist-packages (from matplotlib->celluloid) (1.3.1)\n",
            "Requirement already satisfied: pyparsing!=2.0.4,!=2.1.2,!=2.1.6,>=2.0.1 in /usr/local/lib/python3.6/dist-packages (from matplotlib->celluloid) (2.4.7)\n",
            "Requirement already satisfied: six in /usr/local/lib/python3.6/dist-packages (from cycler>=0.10->matplotlib->celluloid) (1.15.0)\n",
            "Installing collected packages: celluloid\n",
            "Successfully installed celluloid-0.2.0\n"
          ],
          "name": "stdout"
        }
      ]
    },
    {
      "cell_type": "code",
      "metadata": {
        "id": "a-clDHrgquXS",
        "colab": {
          "resources": {
            "http://localhost:8080/nbextensions/google.colab/files.js": {
              "data": "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",
              "ok": true,
              "headers": [
                [
                  "content-type",
                  "application/javascript"
                ]
              ],
              "status": 200,
              "status_text": ""
            }
          },
          "base_uri": "https://localhost:8080/",
          "height": 363
        },
        "outputId": "fe9260e4-4e2f-456a-ba7a-65797d7a690c"
      },
      "source": [
        "from google.colab import files\n",
        "uploaded = files.upload()"
      ],
      "execution_count": null,
      "outputs": [
        {
          "output_type": "display_data",
          "data": {
            "text/html": [
              "\n",
              "     <input type=\"file\" id=\"files-209f3a7c-d0bf-4dd0-a397-cbfc9299086b\" name=\"files[]\" multiple disabled\n",
              "        style=\"border:none\" />\n",
              "     <output id=\"result-209f3a7c-d0bf-4dd0-a397-cbfc9299086b\">\n",
              "      Upload widget is only available when the cell has been executed in the\n",
              "      current browser session. Please rerun this cell to enable.\n",
              "      </output>\n",
              "      <script src=\"/nbextensions/google.colab/files.js\"></script> "
            ],
            "text/plain": [
              "<IPython.core.display.HTML object>"
            ]
          },
          "metadata": {
            "tags": []
          }
        },
        {
          "output_type": "error",
          "ename": "MessageError",
          "evalue": "ignored",
          "traceback": [
            "\u001b[0;31m---------------------------------------------------------------------------\u001b[0m",
            "\u001b[0;31mMessageError\u001b[0m                              Traceback (most recent call last)",
            "\u001b[0;32m<ipython-input-7-21dc3c638f66>\u001b[0m in \u001b[0;36m<module>\u001b[0;34m()\u001b[0m\n\u001b[1;32m      1\u001b[0m \u001b[0;32mfrom\u001b[0m \u001b[0mgoogle\u001b[0m\u001b[0;34m.\u001b[0m\u001b[0mcolab\u001b[0m \u001b[0;32mimport\u001b[0m \u001b[0mfiles\u001b[0m\u001b[0;34m\u001b[0m\u001b[0;34m\u001b[0m\u001b[0m\n\u001b[0;32m----> 2\u001b[0;31m \u001b[0muploaded\u001b[0m \u001b[0;34m=\u001b[0m \u001b[0mfiles\u001b[0m\u001b[0;34m.\u001b[0m\u001b[0mupload\u001b[0m\u001b[0;34m(\u001b[0m\u001b[0;34m)\u001b[0m\u001b[0;34m\u001b[0m\u001b[0;34m\u001b[0m\u001b[0m\n\u001b[0m",
            "\u001b[0;32m/usr/local/lib/python3.6/dist-packages/google/colab/files.py\u001b[0m in \u001b[0;36mupload\u001b[0;34m()\u001b[0m\n\u001b[1;32m     70\u001b[0m     result = _output.eval_js(\n\u001b[1;32m     71\u001b[0m         'google.colab._files._uploadFilesContinue(\"{output_id}\")'.format(\n\u001b[0;32m---> 72\u001b[0;31m             output_id=output_id))\n\u001b[0m\u001b[1;32m     73\u001b[0m     \u001b[0;32mif\u001b[0m \u001b[0mresult\u001b[0m\u001b[0;34m[\u001b[0m\u001b[0;34m'action'\u001b[0m\u001b[0;34m]\u001b[0m \u001b[0;34m!=\u001b[0m \u001b[0;34m'append'\u001b[0m\u001b[0;34m:\u001b[0m\u001b[0;34m\u001b[0m\u001b[0;34m\u001b[0m\u001b[0m\n\u001b[1;32m     74\u001b[0m       \u001b[0;31m# JS side uses a generator of promises to process all of the files- some\u001b[0m\u001b[0;34m\u001b[0m\u001b[0;34m\u001b[0m\u001b[0;34m\u001b[0m\u001b[0m\n",
            "\u001b[0;32m/usr/local/lib/python3.6/dist-packages/google/colab/output/_js.py\u001b[0m in \u001b[0;36meval_js\u001b[0;34m(script, ignore_result)\u001b[0m\n\u001b[1;32m     37\u001b[0m   \u001b[0;32mif\u001b[0m \u001b[0mignore_result\u001b[0m\u001b[0;34m:\u001b[0m\u001b[0;34m\u001b[0m\u001b[0;34m\u001b[0m\u001b[0m\n\u001b[1;32m     38\u001b[0m     \u001b[0;32mreturn\u001b[0m\u001b[0;34m\u001b[0m\u001b[0;34m\u001b[0m\u001b[0m\n\u001b[0;32m---> 39\u001b[0;31m   \u001b[0;32mreturn\u001b[0m \u001b[0m_message\u001b[0m\u001b[0;34m.\u001b[0m\u001b[0mread_reply_from_input\u001b[0m\u001b[0;34m(\u001b[0m\u001b[0mrequest_id\u001b[0m\u001b[0;34m)\u001b[0m\u001b[0;34m\u001b[0m\u001b[0;34m\u001b[0m\u001b[0m\n\u001b[0m\u001b[1;32m     40\u001b[0m \u001b[0;34m\u001b[0m\u001b[0m\n\u001b[1;32m     41\u001b[0m \u001b[0;34m\u001b[0m\u001b[0m\n",
            "\u001b[0;32m/usr/local/lib/python3.6/dist-packages/google/colab/_message.py\u001b[0m in \u001b[0;36mread_reply_from_input\u001b[0;34m(message_id, timeout_sec)\u001b[0m\n\u001b[1;32m    104\u001b[0m         reply.get('colab_msg_id') == message_id):\n\u001b[1;32m    105\u001b[0m       \u001b[0;32mif\u001b[0m \u001b[0;34m'error'\u001b[0m \u001b[0;32min\u001b[0m \u001b[0mreply\u001b[0m\u001b[0;34m:\u001b[0m\u001b[0;34m\u001b[0m\u001b[0;34m\u001b[0m\u001b[0m\n\u001b[0;32m--> 106\u001b[0;31m         \u001b[0;32mraise\u001b[0m \u001b[0mMessageError\u001b[0m\u001b[0;34m(\u001b[0m\u001b[0mreply\u001b[0m\u001b[0;34m[\u001b[0m\u001b[0;34m'error'\u001b[0m\u001b[0;34m]\u001b[0m\u001b[0;34m)\u001b[0m\u001b[0;34m\u001b[0m\u001b[0;34m\u001b[0m\u001b[0m\n\u001b[0m\u001b[1;32m    107\u001b[0m       \u001b[0;32mreturn\u001b[0m \u001b[0mreply\u001b[0m\u001b[0;34m.\u001b[0m\u001b[0mget\u001b[0m\u001b[0;34m(\u001b[0m\u001b[0;34m'data'\u001b[0m\u001b[0;34m,\u001b[0m \u001b[0;32mNone\u001b[0m\u001b[0;34m)\u001b[0m\u001b[0;34m\u001b[0m\u001b[0;34m\u001b[0m\u001b[0m\n\u001b[1;32m    108\u001b[0m \u001b[0;34m\u001b[0m\u001b[0m\n",
            "\u001b[0;31mMessageError\u001b[0m: RangeError: Maximum call stack size exceeded."
          ]
        }
      ]
    },
    {
      "cell_type": "markdown",
      "metadata": {
        "id": "s2dHiWDy6Os2"
      },
      "source": [
        "# New Section"
      ]
    },
    {
      "cell_type": "code",
      "metadata": {
        "id": "WkuzMXgFhDzb"
      },
      "source": [
        "df = pd.read_table('data.csv', delimiter=';')\n",
        "da = df.sort_values(by=['time'])"
      ],
      "execution_count": null,
      "outputs": []
    },
    {
      "cell_type": "code",
      "metadata": {
        "id": "DNtHV2L9hDzh",
        "colab": {
          "base_uri": "https://localhost:8080/",
          "height": 306
        },
        "outputId": "aac99b21-03a9-44e4-9fc9-9b6a7e410cb2"
      },
      "source": [
        "da.head()"
      ],
      "execution_count": null,
      "outputs": [
        {
          "output_type": "execute_result",
          "data": {
            "text/html": [
              "<div>\n",
              "<style scoped>\n",
              "    .dataframe tbody tr th:only-of-type {\n",
              "        vertical-align: middle;\n",
              "    }\n",
              "\n",
              "    .dataframe tbody tr th {\n",
              "        vertical-align: top;\n",
              "    }\n",
              "\n",
              "    .dataframe thead th {\n",
              "        text-align: right;\n",
              "    }\n",
              "</style>\n",
              "<table border=\"1\" class=\"dataframe\">\n",
              "  <thead>\n",
              "    <tr style=\"text-align: right;\">\n",
              "      <th></th>\n",
              "      <th>Unnamed: 0</th>\n",
              "      <th>id_tweet</th>\n",
              "      <th>isFavorable</th>\n",
              "      <th>id_politico</th>\n",
              "      <th>text</th>\n",
              "      <th>time</th>\n",
              "      <th>nome_principal</th>\n",
              "      <th>twitter</th>\n",
              "      <th>classe politica</th>\n",
              "      <th>nome_partido</th>\n",
              "      <th>estado</th>\n",
              "      <th>regiao</th>\n",
              "    </tr>\n",
              "  </thead>\n",
              "  <tbody>\n",
              "    <tr>\n",
              "      <th>212</th>\n",
              "      <td>212</td>\n",
              "      <td>2972</td>\n",
              "      <td>1</td>\n",
              "      <td>206</td>\n",
              "      <td>RT @PSDBnaCamara: A Dep @geovaniadesa chama at...</td>\n",
              "      <td>2019-01-01 17:36:46</td>\n",
              "      <td>GEOVANIA DE SÁ</td>\n",
              "      <td>geovaniadesa</td>\n",
              "      <td>deputado federal</td>\n",
              "      <td>PSDB</td>\n",
              "      <td>SANTA CATARINA</td>\n",
              "      <td>SUL</td>\n",
              "    </tr>\n",
              "    <tr>\n",
              "      <th>979</th>\n",
              "      <td>979</td>\n",
              "      <td>19996</td>\n",
              "      <td>1</td>\n",
              "      <td>281</td>\n",
              "      <td>Guedes: Reforma da Previdência é o maior desaf...</td>\n",
              "      <td>2019-01-02 18:23:13</td>\n",
              "      <td>JÚLIO CESAR</td>\n",
              "      <td>depjuliocesarpi</td>\n",
              "      <td>deputado federal</td>\n",
              "      <td>PSD</td>\n",
              "      <td>PIAUÍ</td>\n",
              "      <td>NORDESTE</td>\n",
              "    </tr>\n",
              "    <tr>\n",
              "      <th>167</th>\n",
              "      <td>167</td>\n",
              "      <td>2301</td>\n",
              "      <td>1</td>\n",
              "      <td>154</td>\n",
              "      <td>Eduardo Costa em entrevista à TV Câmara.\\n\\nCo...</td>\n",
              "      <td>2019-01-04 14:09:04</td>\n",
              "      <td>EDUARDO COSTA</td>\n",
              "      <td>dep_eduardo</td>\n",
              "      <td>deputado federal</td>\n",
              "      <td>PTB</td>\n",
              "      <td>para</td>\n",
              "      <td>NORTE</td>\n",
              "    </tr>\n",
              "    <tr>\n",
              "      <th>431</th>\n",
              "      <td>431</td>\n",
              "      <td>5779</td>\n",
              "      <td>0</td>\n",
              "      <td>399</td>\n",
              "      <td>No texto proposto para a reforma da Previdênci...</td>\n",
              "      <td>2019-01-10 17:15:14</td>\n",
              "      <td>PAULO PEREIRA DA SILVA</td>\n",
              "      <td>dep_paulinho</td>\n",
              "      <td>deputado federal</td>\n",
              "      <td>SD</td>\n",
              "      <td>SÃO PAULO</td>\n",
              "      <td>SUDESTE</td>\n",
              "    </tr>\n",
              "    <tr>\n",
              "      <th>430</th>\n",
              "      <td>430</td>\n",
              "      <td>5777</td>\n",
              "      <td>-1</td>\n",
              "      <td>399</td>\n",
              "      <td>@bnpaes Estou na luta para que a reforma da Pr...</td>\n",
              "      <td>2019-01-11 14:00:51</td>\n",
              "      <td>PAULO PEREIRA DA SILVA</td>\n",
              "      <td>dep_paulinho</td>\n",
              "      <td>deputado federal</td>\n",
              "      <td>SD</td>\n",
              "      <td>SÃO PAULO</td>\n",
              "      <td>SUDESTE</td>\n",
              "    </tr>\n",
              "  </tbody>\n",
              "</table>\n",
              "</div>"
            ],
            "text/plain": [
              "     Unnamed: 0  id_tweet  isFavorable  ...  nome_partido          estado    regiao\n",
              "212         212      2972            1  ...          PSDB  SANTA CATARINA       SUL\n",
              "979         979     19996            1  ...           PSD           PIAUÍ  NORDESTE\n",
              "167         167      2301            1  ...           PTB            para     NORTE\n",
              "431         431      5779            0  ...            SD       SÃO PAULO   SUDESTE\n",
              "430         430      5777           -1  ...            SD       SÃO PAULO   SUDESTE\n",
              "\n",
              "[5 rows x 12 columns]"
            ]
          },
          "metadata": {
            "tags": []
          },
          "execution_count": 9
        }
      ]
    },
    {
      "cell_type": "code",
      "metadata": {
        "id": "wZyF9OHShDzl",
        "colab": {
          "base_uri": "https://localhost:8080/",
          "height": 68
        },
        "outputId": "e94688b0-c438-444f-f45b-9556c6eeb3f0"
      },
      "source": [
        "np.unique(da.time)"
      ],
      "execution_count": null,
      "outputs": [
        {
          "output_type": "execute_result",
          "data": {
            "text/plain": [
              "array(['2019-01-01 17:36:46', '2019-01-02 18:23:13',\n",
              "       '2019-01-04 14:09:04', ..., '2019-07-11 15:29:21',\n",
              "       '2019-07-11 15:30:10', '2019-07-11 15:30:16'], dtype=object)"
            ]
          },
          "metadata": {
            "tags": []
          },
          "execution_count": 10
        }
      ]
    },
    {
      "cell_type": "code",
      "metadata": {
        "id": "Uwvi2CCYhDzp"
      },
      "source": [
        "np.random.seed(19680801)\n",
        "\n",
        "class SimulateStatement:\n",
        "  def __init__(self, N, maxtweets):\n",
        "    self.N = N\n",
        "    self.maxtweets = maxtweets\n",
        "\n",
        "\n",
        "  def np_continuous(self):\n",
        "      statements = np.zeros((self.N,self.maxtweets))\n",
        "      for i in range(0,self.N):\n",
        "          statements[i] =  np.random.uniform(-1,1,self.maxtweets)\n",
        "      return statements\n",
        "\n",
        "  def np_binary(self):\n",
        "      statements = np.zeros((self.N,self.maxtweets))\n",
        "      for i in range(0,self.N):\n",
        "          #statements[i] =  np.random.uniform(-1,1,T)\n",
        "          statements[i] = np.random.randint(0,2,self.maxtweets)\n",
        "          statements[i][np.where(statements[i]==0)]=-1\n",
        "      return statements\n",
        "\n",
        "  def list_continuous(self):\n",
        "      statements = []\n",
        "      for i in range(0,self.N):\n",
        "          maxt = np.random.randint(0,self.maxtweets)\n",
        "          statementsi =  np.random.uniform(-1,1,maxt)\n",
        "          statements.append(statementsi)\n",
        "      return statements\n",
        "\n",
        "  def list_binary(self):\n",
        "      statements = []\n",
        "      for i in range(0,self.N):\n",
        "          maxt = np.random.randint(0,self.maxtweets)\n",
        "          statementsi =  np.random.randint(0,2,maxt)\n",
        "          statementsi[np.where(statementsi==0)]=-1\n",
        "          statements.append(statementsi)\n",
        "      return statements"
      ],
      "execution_count": null,
      "outputs": []
    },
    {
      "cell_type": "code",
      "metadata": {
        "id": "sfC40CwY6rAS"
      },
      "source": [
        ""
      ],
      "execution_count": null,
      "outputs": []
    },
    {
      "cell_type": "code",
      "metadata": {
        "id": "R1_grZT8EsJg"
      },
      "source": [
        ""
      ],
      "execution_count": null,
      "outputs": []
    },
    {
      "cell_type": "markdown",
      "metadata": {
        "id": "RQGBrB9qhDzs"
      },
      "source": [
        "K - Undiceded \n",
        "$$$$\n",
        "$\\Lambda$ - in favour\n",
        "$$$$\n",
        "$\\Omega$ - Against"
      ]
    },
    {
      "cell_type": "code",
      "metadata": {
        "id": "ylLZNszJhDzt"
      },
      "source": [
        "\n",
        "\n",
        "    "
      ],
      "execution_count": null,
      "outputs": []
    },
    {
      "cell_type": "code",
      "metadata": {
        "id": "RvbOcPSyhDzx"
      },
      "source": [
        "# da pra deixar todos os run_model como apenas 1 funcao, usando o exp ou mean como o parametro\n",
        "# podecre, acho que a boa é inserir como metodos dentro da classe\n",
        "\n",
        "# Trajectory Score Vector on Time\n",
        "class Model: \n",
        "  def __init__(self, tau, l, delta):\n",
        "    self.N = N\n",
        "    self.maxtweets = maxtweets\n",
        "\n",
        "  def h_exp(tau , l):\n",
        "      \n",
        "      h = np.zeros(len(tau))\n",
        "      h[0] = tau[0]\n",
        "      \n",
        "      for i in range(0,len(tau)):\n",
        "          h[i] = l*h[i-1] + (1-l)*tau[i]\n",
        "      return h\n",
        "\n",
        "  # End result Score\n",
        "\n",
        "  def h_exp_escalar(tau , l):\n",
        "      \n",
        "      h = 0\n",
        "      h = tau[0]\n",
        "      \n",
        "      for i in range(0,len(tau)):\n",
        "          h = l*h + (1-l)*tau[i]\n",
        "      \n",
        "      return h\n",
        "\n",
        "  # Score as mean of posts\n",
        "\n",
        "  def h_mean(tau ):\n",
        "      return np.mean(tau)\n",
        "\n",
        "\n",
        "  def run_model_exp_def(statements, delta, l): # t é n de enesimo tweet\n",
        "      \n",
        "      N = np.shape(statements)[0]\n",
        "      P = np.zeros(N)\n",
        "      \n",
        "      for i in range(0,N):\n",
        "          \n",
        "          tau = statements[i]\n",
        "          h = h_exp_escalar(tau, l)\n",
        "          \n",
        "          if(abs(h)> delta):\n",
        "              if(h>0):\n",
        "                  P[i] = 1\n",
        "              elif(h<0):\n",
        "                  P[i] = -1\n",
        "          elif(abs(h)< delta):\n",
        "              P[i] = 0\n",
        "            \n",
        "      return P\n",
        "\n",
        "  def run_model_mean(statements, delta, l): # t é n de enesimo tweet\n",
        "      \n",
        "      N = np.shape(statements)[0]\n",
        "      P = np.zeros(N)\n",
        "      \n",
        "      for i in range(0,N):\n",
        "          \n",
        "          tau = statements[i]\n",
        "          h = h_mean(tau)\n",
        "          \n",
        "          if(abs(h)> delta):\n",
        "              if(h>0):\n",
        "                  P[i] = 1\n",
        "              elif(h<0):\n",
        "                  P[i] = -1\n",
        "          elif(abs(h)< delta):\n",
        "              P[i] = 0\n",
        "            \n",
        "      return P\n",
        "\n",
        "  def study_hexp(statements, delta, l): # t é n de enesimo tweet\n",
        "      \n",
        "      N = np.shape(statements)[0]\n",
        "      P = np.zeros(N)\n",
        "      \n",
        "      hexp=[]\n",
        "\n",
        "      for i in range(0,N):\n",
        "          \n",
        "          tau = statements[i]\n",
        "          h = h_exp_escalar(tau, l)\n",
        "          hexp.append(h)\n",
        "            \n",
        "      return hexp"
      ],
      "execution_count": null,
      "outputs": []
    },
    {
      "cell_type": "markdown",
      "metadata": {
        "id": "A1_MzSvXhDz3"
      },
      "source": [
        "We define the fluxes as the number of politicians that change from one set to another, example, the flux $\\phi_{K,\\Omega}$ would be the total number of politicians migrating from being undecided on the subject at hand (set K)  to being against it (set $\\Omega$).\n",
        "\n",
        "Note that  $\\phi_{K,\\Omega} + \\phi_{\\Omega,K} = 0$"
      ]
    },
    {
      "cell_type": "markdown",
      "metadata": {
        "id": "kqOsM7SohDz3"
      },
      "source": [
        "We also define the changes within the sets \n",
        "\n",
        "$\\Delta_t = (|K_t|-|K_{t-1}|, |\\Omega_t|-||\\Omega_{t-1}| ,|\\Lambda_t|-|\\Lambda_{t-1}|)$"
      ]
    },
    {
      "cell_type": "code",
      "metadata": {
        "id": "91z5wwTkhDz4"
      },
      "source": [
        "def get_changes_exp_df_interval(df, delta, l,lag):\n",
        "    \n",
        "    Plista=[]\n",
        "    \n",
        "    tempo = da.time[1::lag]\n",
        "    changes = np.zeros(( len(tempo) , 3 ))\n",
        "    \n",
        "    ii = 0\n",
        "    \n",
        "    Nantes = 0\n",
        "    \n",
        "    for t in tempo:\n",
        "        \n",
        "        print(ii, end='\\r')\n",
        "        time.sleep(1)\n",
        "        #gets statements\n",
        "        statements = crop_statements_until_t(da, t)\n",
        "        \n",
        "        P = run_model_exp_def(statements, delta, l)\n",
        "        \n",
        "        Plista.append(P)\n",
        "        \n",
        "        A = np.where(P==1)\n",
        "        O = np.where(P==-1)\n",
        "        K = np.where(P==0)\n",
        "        \n",
        "        if(ii>0):\n",
        "            \n",
        "            nA1 = len(A[0])\n",
        "            nO1 = len(O[0])\n",
        "            nK1 = len(K[0])\n",
        "\n",
        "            changes[ii][0] = nA1 - nA\n",
        "            changes[ii][1] = nO1 - nO\n",
        "            changes[ii][2] = nK1 - nK\n",
        "\n",
        "            nA = nA1\n",
        "            nO = nO1\n",
        "            nK = nK1\n",
        "            \n",
        "        elif(ii==0):\n",
        "\n",
        "            nA = len(A[0])\n",
        "            nO = len(O[0])\n",
        "            nK = len(K[0])\n",
        "            \n",
        "        ii=ii+1\n",
        "    \n",
        "    #return changes , Plista\n",
        "    return changes,  Plista\n",
        "\n",
        "\n",
        "\n",
        "def get_changes_exp_df_interval_L(df, delta, l,lag):\n",
        "    \n",
        "    #changes = np.zeros((T,3))\n",
        "    \n",
        "    Plista=[]\n",
        "    \n",
        "    #tempo = da.time\n",
        "    \n",
        "    tempo = da.time[1::lag]\n",
        "    \n",
        "    changes = np.zeros(( len(tempo) , 3 ))\n",
        "    changesL = np.zeros(( len(tempo) , 3 ))\n",
        "    \n",
        "    ii = 0\n",
        "    \n",
        "    Nantes = 0\n",
        "    \n",
        "    for t in tempo:\n",
        "        \n",
        "        print(ii, end='\\r')\n",
        "        time.sleep(1)\n",
        "        #gets statements\n",
        "        \n",
        "        statements = crop_statements_until_t(da, t)\n",
        "        \n",
        "        P = run_model_exp_def(statements, delta, l)\n",
        "        \n",
        "        #Nnow = len(P)\n",
        "        Plista.append(P)\n",
        "        \n",
        "        A = np.where(P==1)\n",
        "        O = np.where(P==-1)\n",
        "        K = np.where(P==0)\n",
        "        \n",
        "        if(ii>1):\n",
        "            \n",
        "            #Plista[len(Plista)-1] -> esse é o ultimo (P)\n",
        "            \n",
        "            P0= Plista[len(Plista)-2]\n",
        "            \n",
        "            #A0 = np.where(P0 == 1)\n",
        "            #O0 = np.where(P0 == -1)\n",
        "            #K0 = np.where(P0 == 0)\n",
        "            \n",
        "            AL = A[0][A[0]<=len(P0)-1]\n",
        "            OL = O[0][O[0]<=len(P0)-1]\n",
        "            KL = K[0][K[0]<=len(P0)-1]\n",
        "            \n",
        "            nA1 = len(A[0])\n",
        "            nO1 = len(O[0])\n",
        "            nK1 = len(K[0])\n",
        "            \n",
        "            nAL = len(AL)\n",
        "            nOL = len(OL)\n",
        "            nKL = len(KL)\n",
        "\n",
        "            changes[ii][0] = nA1 - nA\n",
        "            changes[ii][1] = nO1 - nO\n",
        "            changes[ii][2] = nK1 - nK\n",
        "            \n",
        "            changesL[ii][0] = nAL - nA\n",
        "            changesL[ii][1] = nOL - nO\n",
        "            changesL[ii][2] = nKL - nK\n",
        "\n",
        "            nA = nA1\n",
        "            nO = nO1\n",
        "            nK = nK1\n",
        "            \n",
        "        #elif(ii==0):\n",
        "        elif(ii<=1):\n",
        "            \n",
        "            nA = len(A[0])\n",
        "            nO = len(O[0])\n",
        "            nK = len(K[0])\n",
        "            \n",
        "        ii=ii+1\n",
        "        \n",
        "    \n",
        "    #return changes , Plista\n",
        "    return changes, changesL , Plista\n",
        "\n",
        "def get_fluxes_exp_df_interval(df, delta, l,lag):\n",
        "    \n",
        "    Plista=[]\n",
        "    \n",
        "    #philista=[]\n",
        "    \n",
        "    tempo = da.time[1::lag]\n",
        "    \n",
        "    fluxes = np.zeros(( len(tempo) , 3 ))\n",
        "\n",
        "    # CONVENÇÃO PARA OS FLUXOS\n",
        "    #\n",
        "    # FLUXES: A -> K ; K -> O ; A -> O; #\n",
        "    #\n",
        "    #\n",
        "\n",
        "    ii = 0\n",
        "    \n",
        "    Nantes = 0\n",
        "    \n",
        "    for t in tempo:\n",
        "        \n",
        "        print(ii, end='\\r')\n",
        "        time.sleep(1)\n",
        "        statements = crop_statements_until_t(da, t)\n",
        "        P = run_model_exp_def(statements, delta, l)\n",
        "        Plista.append(P)\n",
        "        \n",
        "        if(ii>0):\n",
        "            \n",
        "            phi=np.transpose([Plista[ii-1][np.where(Plista[ii-1]-Plista[ii][0:len(Plista[ii-1])] != 0)],Plista[ii][np.where(Plista[ii-1]-Plista[ii][0:len(Plista[ii-1])] != 0)]])\n",
        "            \n",
        "            for i in phi:\n",
        "                #print(i)\n",
        "                if (i.tolist() == [ 0. , 1.]):\n",
        "                    fluxes[ii][0] += -1\n",
        "                if (i.tolist() == [ 1. , 0.]):\n",
        "                    fluxes[ii][0] += 1\n",
        "                if (i.tolist() == [ 0., -1.]):\n",
        "                    fluxes[ii][1] += 1\n",
        "                if (i.tolist() == [ -1. , 0.]):\n",
        "                    fluxes[ii][1] += -1\n",
        "                if (i.tolist() == [ 1. ,-1.]):\n",
        "                    fluxes[ii][2] += 1\n",
        "                if (i.tolist() == [ -1., 1.]):\n",
        "                    fluxes[ii][2] += -1\n",
        "         \n",
        "            \n",
        "        ii = ii+1\n",
        "        \n",
        "    #return changes , Plista\n",
        "    return fluxes, Plista\n",
        "\n"
      ],
      "execution_count": null,
      "outputs": []
    },
    {
      "cell_type": "code",
      "metadata": {
        "id": "rEJhvYwXhDz7"
      },
      "source": [
        "def crop_statements_until_t(da, t):\n",
        "    \n",
        "    da = da[da.time<t]\n",
        "    idspoliticos = da.id_politico.unique();\n",
        "    tau = []\n",
        "    \n",
        "    for i in idspoliticos:\n",
        "        taui = da.isFavorable[da.id_politico == i]\n",
        "        tau.append(taui.tolist())\n",
        "    \n",
        "    return tau"
      ],
      "execution_count": null,
      "outputs": []
    },
    {
      "cell_type": "code",
      "metadata": {
        "id": "Jsr17uZahDz-"
      },
      "source": [
        "statements = crop_statements_until_t(da,da.time.iloc[120] )"
      ],
      "execution_count": null,
      "outputs": []
    },
    {
      "cell_type": "code",
      "metadata": {
        "id": "xRwahXSGhD0B"
      },
      "source": [
        "def get_fluxes_stats(fluxes):\n",
        "      # CONVENÇÃO PARA OS FLUXOS\n",
        "    # FLUXES: A -> K ; K -> O ; A -> O; #\n",
        "    #\n",
        "    means = [np.mean(np.transpose(fluxes)[0]),np.mean(np.transpose(fluxes)[1]),np.mean(np.transpose(fluxes)[2])]\n",
        "    stds = [np.std(np.transpose(fluxes)[0]),np.std(np.transpose(fluxes)[1]),np.std(np.transpose(fluxes)[2])]\n",
        "    #print(means)\n",
        "    return means, stds"
      ],
      "execution_count": null,
      "outputs": []
    },
    {
      "cell_type": "code",
      "metadata": {
        "id": "MY-l8LZNIJjq"
      },
      "source": [
        "def get_P_stats(Plista):\n",
        "    #pegamos a media do tamanho de cada conjunto\n",
        "    means = [np.mean(np.transpose(fluxes)[0]),np.mean(np.transpose(fluxes)[1]),np.mean(np.transpose(fluxes)[2])]\n",
        "    stds = [np.std(np.transpose(fluxes)[0]),np.std(np.transpose(fluxes)[1]),np.std(np.transpose(fluxes)[2])]\n",
        "    #print(means)\n",
        "    return means, stds"
      ],
      "execution_count": null,
      "outputs": []
    },
    {
      "cell_type": "code",
      "metadata": {
        "id": "yc8wHz5MhD0F",
        "colab": {
          "base_uri": "https://localhost:8080/",
          "height": 17
        },
        "outputId": "e21331fe-e197-421a-f6a8-f568d0e99eef"
      },
      "source": [
        "changes, Plista = get_changes_exp_df_interval(da, 0.6,  0.2, 100)"
      ],
      "execution_count": null,
      "outputs": [
        {
          "output_type": "stream",
          "text": [
            ""
          ],
          "name": "stdout"
        }
      ]
    },
    {
      "cell_type": "code",
      "metadata": {
        "id": "eu1pR7EkhD0J",
        "colab": {
          "base_uri": "https://localhost:8080/",
          "height": 17
        },
        "outputId": "f3ae0338-5c97-4a0c-bbf4-47d913ce9222"
      },
      "source": [
        "changes, changesL, Plista = get_changes_exp_df_interval_L(da, 0.6,  0.2, 100)"
      ],
      "execution_count": null,
      "outputs": [
        {
          "output_type": "stream",
          "text": [
            ""
          ],
          "name": "stdout"
        }
      ]
    },
    {
      "cell_type": "code",
      "metadata": {
        "id": "5HANchB6hD0P",
        "colab": {
          "base_uri": "https://localhost:8080/",
          "height": 17
        },
        "outputId": "19dc021f-65cd-4ecb-90fa-3ef75cf73e9f"
      },
      "source": [
        "fluxes, Plista = get_fluxes_exp_df_interval(da, 0.6,  0.2, 100)"
      ],
      "execution_count": null,
      "outputs": [
        {
          "output_type": "stream",
          "text": [
            ""
          ],
          "name": "stdout"
        }
      ]
    },
    {
      "cell_type": "code",
      "metadata": {
        "id": "_bVzM4u3Av4h"
      },
      "source": [
        "    # CONVENÇÃO PARA OS FLUXOS\n",
        "    #\n",
        "    # FLUXES: A -> K ; K -> O ; A -> O; #\n",
        "    #\n",
        "    #\n",
        " "
      ],
      "execution_count": null,
      "outputs": []
    },
    {
      "cell_type": "code",
      "metadata": {
        "id": "aI7qTYH5hD0S",
        "colab": {
          "base_uri": "https://localhost:8080/",
          "height": 34
        },
        "outputId": "834b71cc-8dd1-4b92-ef0a-db71de6bc57a"
      },
      "source": [
        "len(Plista[1])\n",
        "\n"
      ],
      "execution_count": null,
      "outputs": [
        {
          "output_type": "execute_result",
          "data": {
            "text/plain": [
              "63"
            ]
          },
          "metadata": {
            "tags": []
          },
          "execution_count": 22
        }
      ]
    },
    {
      "cell_type": "code",
      "metadata": {
        "id": "iiUd7do1hD0U"
      },
      "source": [
        "def study_delta(df,delta,l,lag):\n",
        "\n",
        "  m = []\n",
        "  s = []\n",
        "\n",
        "  for d in delta:\n",
        "\n",
        "    fluxes, Plista = get_fluxes_exp_df_interval(df, d, l, lag)\n",
        "    #print('debug')\n",
        "    meanss , stdss = get_fluxes_stats(fluxes)\n",
        "    #print('debug 1')\n",
        "    m.append(meanss)\n",
        "    s.append(stdss)\n",
        "  \n",
        "  return m, s\n",
        "\n",
        "def study_l(df,delta,lambd,lag):\n",
        "\n",
        "  m = []\n",
        "  s = []\n",
        "\n",
        "  for l in lambd:\n",
        "\n",
        "    fluxes, Plista = get_fluxes_exp_df_interval(df, delta, l, lag)\n",
        "    #print('debug')\n",
        "    means , stds = get_fluxes_stats(fluxes)\n",
        "    #print('debug 1')\n",
        "    m.append(means)\n",
        "    s.append(stds)\n",
        "  \n",
        "  #print('xegou')\n",
        "  return m, s\n",
        "\n",
        "def map_l_delta(df,delta,lambd,lag):\n",
        "  means3d=[]\n",
        "  stds3d=[]\n",
        "  for d in delta:\n",
        "    print(d)\n",
        "    m , s = study_l(df,d,lambd,lag)\n",
        "    means3d.append(m)\n",
        "    stds3d.append(s)\n",
        "  return means3d, stds3d\n",
        "\n",
        "\n",
        "\n"
      ],
      "execution_count": null,
      "outputs": []
    },
    {
      "cell_type": "code",
      "metadata": {
        "id": "q3W5V5O0Yr73"
      },
      "source": [
        "    # CONVENÇÃO PARA OS FLUXOS\n",
        "    #\n",
        "    # FLUXES: A -> K ; K -> O ; A -> O; #\n",
        "    #\n",
        "    #"
      ],
      "execution_count": null,
      "outputs": []
    },
    {
      "cell_type": "code",
      "metadata": {
        "id": "BaC6giVgCqTp",
        "colab": {
          "base_uri": "https://localhost:8080/",
          "height": 17
        },
        "outputId": "498aed66-6874-47d8-f2f7-b99292d05d31"
      },
      "source": [
        "m , s = study_delta(df,[0.1,0.2,0.3,0.4,0.5,0.6,0.7,0.8,0.9],0.2,300) "
      ],
      "execution_count": null,
      "outputs": [
        {
          "output_type": "stream",
          "text": [
            ""
          ],
          "name": "stdout"
        }
      ]
    },
    {
      "cell_type": "code",
      "metadata": {
        "id": "OI_-hBEopiFS",
        "colab": {
          "base_uri": "https://localhost:8080/",
          "height": 170
        },
        "outputId": "4fd194bb-cf12-4d58-c5db-b5a349273fa4"
      },
      "source": [
        "lambd = [0.1,0.2,0.3,0.4,0.5,0.6,0.7,0.8,0.9]\n",
        "delta = lambd \n",
        "\n",
        "m , s = map_l_delta(da,delta,lambd,300)"
      ],
      "execution_count": null,
      "outputs": [
        {
          "output_type": "stream",
          "text": [
            "0.1\n",
            "0.2\n",
            "0.3\n",
            "0.4\n",
            "0.5\n",
            "0.6\n",
            "0.7\n",
            "0.8\n",
            "0.9\n"
          ],
          "name": "stdout"
        }
      ]
    },
    {
      "cell_type": "code",
      "metadata": {
        "id": "jkF6OR5MfgAU"
      },
      "source": [
        "np.save('mstats',m)\n",
        "np.savetxt(\"mAK.csv\", np.transpose(m)[0], delimiter=\",\")\n",
        "np.savetxt(\"mKO.csv\", np.transpose(m)[1], delimiter=\",\")\n",
        "np.savetxt(\"mAO.csv\", np.transpose(m)[2], delimiter=\",\")\n",
        "np.savetxt(\"sAK.csv\", np.transpose(s)[0], delimiter=\",\")\n",
        "np.savetxt(\"sKO.csv\", np.transpose(s)[1], delimiter=\",\")\n",
        "np.savetxt(\"sAO.csv\", np.transpose(s)[2], delimiter=\",\")"
      ],
      "execution_count": null,
      "outputs": []
    },
    {
      "cell_type": "code",
      "metadata": {
        "id": "OH_YgFaMfvE4"
      },
      "source": [
        "np.save('sstats',s)\n",
        "np.savetxt(\"s.csv\", s, delimiter=\",\")"
      ],
      "execution_count": null,
      "outputs": []
    },
    {
      "cell_type": "code",
      "metadata": {
        "id": "rMGKdgAlhYWd",
        "colab": {
          "base_uri": "https://localhost:8080/",
          "height": 17
        },
        "outputId": "100ebb4f-07fd-45a3-99fd-6b01172c7ba3"
      },
      "source": [
        "files.download( \"mAK.csv\" )   \n",
        "files.download( \"mKO.csv\" ) \n",
        "files.download( \"mAO.csv\" )   \n",
        "files.download( \"sAK.csv\" ) \n",
        "files.download( \"sKO.csv\" )   \n",
        "files.download( \"sAO.csv\" ) "
      ],
      "execution_count": null,
      "outputs": [
        {
          "output_type": "display_data",
          "data": {
            "application/javascript": [
              "\n",
              "    async function download(id, filename, size) {\n",
              "      if (!google.colab.kernel.accessAllowed) {\n",
              "        return;\n",
              "      }\n",
              "      const div = document.createElement('div');\n",
              "      const label = document.createElement('label');\n",
              "      label.textContent = `Downloading \"${filename}\": `;\n",
              "      div.appendChild(label);\n",
              "      const progress = document.createElement('progress');\n",
              "      progress.max = size;\n",
              "      div.appendChild(progress);\n",
              "      document.body.appendChild(div);\n",
              "\n",
              "      const buffers = [];\n",
              "      let downloaded = 0;\n",
              "\n",
              "      const channel = await google.colab.kernel.comms.open(id);\n",
              "      // Send a message to notify the kernel that we're ready.\n",
              "      channel.send({})\n",
              "\n",
              "      for await (const message of channel.messages) {\n",
              "        // Send a message to notify the kernel that we're ready.\n",
              "        channel.send({})\n",
              "        if (message.buffers) {\n",
              "          for (const buffer of message.buffers) {\n",
              "            buffers.push(buffer);\n",
              "            downloaded += buffer.byteLength;\n",
              "            progress.value = downloaded;\n",
              "          }\n",
              "        }\n",
              "      }\n",
              "      const blob = new Blob(buffers, {type: 'application/binary'});\n",
              "      const a = document.createElement('a');\n",
              "      a.href = window.URL.createObjectURL(blob);\n",
              "      a.download = filename;\n",
              "      div.appendChild(a);\n",
              "      a.click();\n",
              "      div.remove();\n",
              "    }\n",
              "  "
            ],
            "text/plain": [
              "<IPython.core.display.Javascript object>"
            ]
          },
          "metadata": {
            "tags": []
          }
        },
        {
          "output_type": "display_data",
          "data": {
            "application/javascript": [
              "download(\"download_ed4004dd-ffda-415f-b1e6-df11827223fa\", \"mAK.csv\", 2090)"
            ],
            "text/plain": [
              "<IPython.core.display.Javascript object>"
            ]
          },
          "metadata": {
            "tags": []
          }
        },
        {
          "output_type": "display_data",
          "data": {
            "application/javascript": [
              "\n",
              "    async function download(id, filename, size) {\n",
              "      if (!google.colab.kernel.accessAllowed) {\n",
              "        return;\n",
              "      }\n",
              "      const div = document.createElement('div');\n",
              "      const label = document.createElement('label');\n",
              "      label.textContent = `Downloading \"${filename}\": `;\n",
              "      div.appendChild(label);\n",
              "      const progress = document.createElement('progress');\n",
              "      progress.max = size;\n",
              "      div.appendChild(progress);\n",
              "      document.body.appendChild(div);\n",
              "\n",
              "      const buffers = [];\n",
              "      let downloaded = 0;\n",
              "\n",
              "      const channel = await google.colab.kernel.comms.open(id);\n",
              "      // Send a message to notify the kernel that we're ready.\n",
              "      channel.send({})\n",
              "\n",
              "      for await (const message of channel.messages) {\n",
              "        // Send a message to notify the kernel that we're ready.\n",
              "        channel.send({})\n",
              "        if (message.buffers) {\n",
              "          for (const buffer of message.buffers) {\n",
              "            buffers.push(buffer);\n",
              "            downloaded += buffer.byteLength;\n",
              "            progress.value = downloaded;\n",
              "          }\n",
              "        }\n",
              "      }\n",
              "      const blob = new Blob(buffers, {type: 'application/binary'});\n",
              "      const a = document.createElement('a');\n",
              "      a.href = window.URL.createObjectURL(blob);\n",
              "      a.download = filename;\n",
              "      div.appendChild(a);\n",
              "      a.click();\n",
              "      div.remove();\n",
              "    }\n",
              "  "
            ],
            "text/plain": [
              "<IPython.core.display.Javascript object>"
            ]
          },
          "metadata": {
            "tags": []
          }
        },
        {
          "output_type": "display_data",
          "data": {
            "application/javascript": [
              "download(\"download_e94951ae-f14f-4e5b-bfa8-c584967b16ea\", \"mKO.csv\", 2100)"
            ],
            "text/plain": [
              "<IPython.core.display.Javascript object>"
            ]
          },
          "metadata": {
            "tags": []
          }
        },
        {
          "output_type": "display_data",
          "data": {
            "application/javascript": [
              "\n",
              "    async function download(id, filename, size) {\n",
              "      if (!google.colab.kernel.accessAllowed) {\n",
              "        return;\n",
              "      }\n",
              "      const div = document.createElement('div');\n",
              "      const label = document.createElement('label');\n",
              "      label.textContent = `Downloading \"${filename}\": `;\n",
              "      div.appendChild(label);\n",
              "      const progress = document.createElement('progress');\n",
              "      progress.max = size;\n",
              "      div.appendChild(progress);\n",
              "      document.body.appendChild(div);\n",
              "\n",
              "      const buffers = [];\n",
              "      let downloaded = 0;\n",
              "\n",
              "      const channel = await google.colab.kernel.comms.open(id);\n",
              "      // Send a message to notify the kernel that we're ready.\n",
              "      channel.send({})\n",
              "\n",
              "      for await (const message of channel.messages) {\n",
              "        // Send a message to notify the kernel that we're ready.\n",
              "        channel.send({})\n",
              "        if (message.buffers) {\n",
              "          for (const buffer of message.buffers) {\n",
              "            buffers.push(buffer);\n",
              "            downloaded += buffer.byteLength;\n",
              "            progress.value = downloaded;\n",
              "          }\n",
              "        }\n",
              "      }\n",
              "      const blob = new Blob(buffers, {type: 'application/binary'});\n",
              "      const a = document.createElement('a');\n",
              "      a.href = window.URL.createObjectURL(blob);\n",
              "      a.download = filename;\n",
              "      div.appendChild(a);\n",
              "      a.click();\n",
              "      div.remove();\n",
              "    }\n",
              "  "
            ],
            "text/plain": [
              "<IPython.core.display.Javascript object>"
            ]
          },
          "metadata": {
            "tags": []
          }
        },
        {
          "output_type": "display_data",
          "data": {
            "application/javascript": [
              "download(\"download_ff4b98a7-10dd-4c83-9398-44904022eb7c\", \"mAO.csv\", 2033)"
            ],
            "text/plain": [
              "<IPython.core.display.Javascript object>"
            ]
          },
          "metadata": {
            "tags": []
          }
        },
        {
          "output_type": "display_data",
          "data": {
            "application/javascript": [
              "\n",
              "    async function download(id, filename, size) {\n",
              "      if (!google.colab.kernel.accessAllowed) {\n",
              "        return;\n",
              "      }\n",
              "      const div = document.createElement('div');\n",
              "      const label = document.createElement('label');\n",
              "      label.textContent = `Downloading \"${filename}\": `;\n",
              "      div.appendChild(label);\n",
              "      const progress = document.createElement('progress');\n",
              "      progress.max = size;\n",
              "      div.appendChild(progress);\n",
              "      document.body.appendChild(div);\n",
              "\n",
              "      const buffers = [];\n",
              "      let downloaded = 0;\n",
              "\n",
              "      const channel = await google.colab.kernel.comms.open(id);\n",
              "      // Send a message to notify the kernel that we're ready.\n",
              "      channel.send({})\n",
              "\n",
              "      for await (const message of channel.messages) {\n",
              "        // Send a message to notify the kernel that we're ready.\n",
              "        channel.send({})\n",
              "        if (message.buffers) {\n",
              "          for (const buffer of message.buffers) {\n",
              "            buffers.push(buffer);\n",
              "            downloaded += buffer.byteLength;\n",
              "            progress.value = downloaded;\n",
              "          }\n",
              "        }\n",
              "      }\n",
              "      const blob = new Blob(buffers, {type: 'application/binary'});\n",
              "      const a = document.createElement('a');\n",
              "      a.href = window.URL.createObjectURL(blob);\n",
              "      a.download = filename;\n",
              "      div.appendChild(a);\n",
              "      a.click();\n",
              "      div.remove();\n",
              "    }\n",
              "  "
            ],
            "text/plain": [
              "<IPython.core.display.Javascript object>"
            ]
          },
          "metadata": {
            "tags": []
          }
        },
        {
          "output_type": "display_data",
          "data": {
            "application/javascript": [
              "download(\"download_b5157a1c-4182-4e7b-800e-d015533d2c17\", \"sAK.csv\", 2025)"
            ],
            "text/plain": [
              "<IPython.core.display.Javascript object>"
            ]
          },
          "metadata": {
            "tags": []
          }
        },
        {
          "output_type": "display_data",
          "data": {
            "application/javascript": [
              "\n",
              "    async function download(id, filename, size) {\n",
              "      if (!google.colab.kernel.accessAllowed) {\n",
              "        return;\n",
              "      }\n",
              "      const div = document.createElement('div');\n",
              "      const label = document.createElement('label');\n",
              "      label.textContent = `Downloading \"${filename}\": `;\n",
              "      div.appendChild(label);\n",
              "      const progress = document.createElement('progress');\n",
              "      progress.max = size;\n",
              "      div.appendChild(progress);\n",
              "      document.body.appendChild(div);\n",
              "\n",
              "      const buffers = [];\n",
              "      let downloaded = 0;\n",
              "\n",
              "      const channel = await google.colab.kernel.comms.open(id);\n",
              "      // Send a message to notify the kernel that we're ready.\n",
              "      channel.send({})\n",
              "\n",
              "      for await (const message of channel.messages) {\n",
              "        // Send a message to notify the kernel that we're ready.\n",
              "        channel.send({})\n",
              "        if (message.buffers) {\n",
              "          for (const buffer of message.buffers) {\n",
              "            buffers.push(buffer);\n",
              "            downloaded += buffer.byteLength;\n",
              "            progress.value = downloaded;\n",
              "          }\n",
              "        }\n",
              "      }\n",
              "      const blob = new Blob(buffers, {type: 'application/binary'});\n",
              "      const a = document.createElement('a');\n",
              "      a.href = window.URL.createObjectURL(blob);\n",
              "      a.download = filename;\n",
              "      div.appendChild(a);\n",
              "      a.click();\n",
              "      div.remove();\n",
              "    }\n",
              "  "
            ],
            "text/plain": [
              "<IPython.core.display.Javascript object>"
            ]
          },
          "metadata": {
            "tags": []
          }
        },
        {
          "output_type": "display_data",
          "data": {
            "application/javascript": [
              "download(\"download_c5652d0e-f34e-489e-8a50-91379aa92f26\", \"sKO.csv\", 2025)"
            ],
            "text/plain": [
              "<IPython.core.display.Javascript object>"
            ]
          },
          "metadata": {
            "tags": []
          }
        },
        {
          "output_type": "display_data",
          "data": {
            "application/javascript": [
              "\n",
              "    async function download(id, filename, size) {\n",
              "      if (!google.colab.kernel.accessAllowed) {\n",
              "        return;\n",
              "      }\n",
              "      const div = document.createElement('div');\n",
              "      const label = document.createElement('label');\n",
              "      label.textContent = `Downloading \"${filename}\": `;\n",
              "      div.appendChild(label);\n",
              "      const progress = document.createElement('progress');\n",
              "      progress.max = size;\n",
              "      div.appendChild(progress);\n",
              "      document.body.appendChild(div);\n",
              "\n",
              "      const buffers = [];\n",
              "      let downloaded = 0;\n",
              "\n",
              "      const channel = await google.colab.kernel.comms.open(id);\n",
              "      // Send a message to notify the kernel that we're ready.\n",
              "      channel.send({})\n",
              "\n",
              "      for await (const message of channel.messages) {\n",
              "        // Send a message to notify the kernel that we're ready.\n",
              "        channel.send({})\n",
              "        if (message.buffers) {\n",
              "          for (const buffer of message.buffers) {\n",
              "            buffers.push(buffer);\n",
              "            downloaded += buffer.byteLength;\n",
              "            progress.value = downloaded;\n",
              "          }\n",
              "        }\n",
              "      }\n",
              "      const blob = new Blob(buffers, {type: 'application/binary'});\n",
              "      const a = document.createElement('a');\n",
              "      a.href = window.URL.createObjectURL(blob);\n",
              "      a.download = filename;\n",
              "      div.appendChild(a);\n",
              "      a.click();\n",
              "      div.remove();\n",
              "    }\n",
              "  "
            ],
            "text/plain": [
              "<IPython.core.display.Javascript object>"
            ]
          },
          "metadata": {
            "tags": []
          }
        },
        {
          "output_type": "display_data",
          "data": {
            "application/javascript": [
              "download(\"download_f3ed73b7-c977-46c1-b767-e955877b37a3\", \"sAO.csv\", 2025)"
            ],
            "text/plain": [
              "<IPython.core.display.Javascript object>"
            ]
          },
          "metadata": {
            "tags": []
          }
        }
      ]
    },
    {
      "cell_type": "code",
      "metadata": {
        "id": "bS_hqR1TgtZQ",
        "colab": {
          "base_uri": "https://localhost:8080/",
          "height": 17
        },
        "outputId": "47b20369-1ee3-4b41-c7ff-a9014680979e"
      },
      "source": [
        "from google.colab import files\n",
        "files.download( \"mstats.npy\" )   \n",
        "files.download( \"sstats.npy\" )   "
      ],
      "execution_count": null,
      "outputs": [
        {
          "output_type": "display_data",
          "data": {
            "application/javascript": [
              "\n",
              "    async function download(id, filename, size) {\n",
              "      if (!google.colab.kernel.accessAllowed) {\n",
              "        return;\n",
              "      }\n",
              "      const div = document.createElement('div');\n",
              "      const label = document.createElement('label');\n",
              "      label.textContent = `Downloading \"${filename}\": `;\n",
              "      div.appendChild(label);\n",
              "      const progress = document.createElement('progress');\n",
              "      progress.max = size;\n",
              "      div.appendChild(progress);\n",
              "      document.body.appendChild(div);\n",
              "\n",
              "      const buffers = [];\n",
              "      let downloaded = 0;\n",
              "\n",
              "      const channel = await google.colab.kernel.comms.open(id);\n",
              "      // Send a message to notify the kernel that we're ready.\n",
              "      channel.send({})\n",
              "\n",
              "      for await (const message of channel.messages) {\n",
              "        // Send a message to notify the kernel that we're ready.\n",
              "        channel.send({})\n",
              "        if (message.buffers) {\n",
              "          for (const buffer of message.buffers) {\n",
              "            buffers.push(buffer);\n",
              "            downloaded += buffer.byteLength;\n",
              "            progress.value = downloaded;\n",
              "          }\n",
              "        }\n",
              "      }\n",
              "      const blob = new Blob(buffers, {type: 'application/binary'});\n",
              "      const a = document.createElement('a');\n",
              "      a.href = window.URL.createObjectURL(blob);\n",
              "      a.download = filename;\n",
              "      div.appendChild(a);\n",
              "      a.click();\n",
              "      div.remove();\n",
              "    }\n",
              "  "
            ],
            "text/plain": [
              "<IPython.core.display.Javascript object>"
            ]
          },
          "metadata": {
            "tags": []
          }
        },
        {
          "output_type": "display_data",
          "data": {
            "application/javascript": [
              "download(\"download_7021f01f-9c4d-4c6f-8e9a-126c77dffa19\", \"mstats.npy\", 2072)"
            ],
            "text/plain": [
              "<IPython.core.display.Javascript object>"
            ]
          },
          "metadata": {
            "tags": []
          }
        },
        {
          "output_type": "display_data",
          "data": {
            "application/javascript": [
              "\n",
              "    async function download(id, filename, size) {\n",
              "      if (!google.colab.kernel.accessAllowed) {\n",
              "        return;\n",
              "      }\n",
              "      const div = document.createElement('div');\n",
              "      const label = document.createElement('label');\n",
              "      label.textContent = `Downloading \"${filename}\": `;\n",
              "      div.appendChild(label);\n",
              "      const progress = document.createElement('progress');\n",
              "      progress.max = size;\n",
              "      div.appendChild(progress);\n",
              "      document.body.appendChild(div);\n",
              "\n",
              "      const buffers = [];\n",
              "      let downloaded = 0;\n",
              "\n",
              "      const channel = await google.colab.kernel.comms.open(id);\n",
              "      // Send a message to notify the kernel that we're ready.\n",
              "      channel.send({})\n",
              "\n",
              "      for await (const message of channel.messages) {\n",
              "        // Send a message to notify the kernel that we're ready.\n",
              "        channel.send({})\n",
              "        if (message.buffers) {\n",
              "          for (const buffer of message.buffers) {\n",
              "            buffers.push(buffer);\n",
              "            downloaded += buffer.byteLength;\n",
              "            progress.value = downloaded;\n",
              "          }\n",
              "        }\n",
              "      }\n",
              "      const blob = new Blob(buffers, {type: 'application/binary'});\n",
              "      const a = document.createElement('a');\n",
              "      a.href = window.URL.createObjectURL(blob);\n",
              "      a.download = filename;\n",
              "      div.appendChild(a);\n",
              "      a.click();\n",
              "      div.remove();\n",
              "    }\n",
              "  "
            ],
            "text/plain": [
              "<IPython.core.display.Javascript object>"
            ]
          },
          "metadata": {
            "tags": []
          }
        },
        {
          "output_type": "display_data",
          "data": {
            "application/javascript": [
              "download(\"download_772ff5ad-5278-47f3-8681-5c0b728be92d\", \"sstats.npy\", 2072)"
            ],
            "text/plain": [
              "<IPython.core.display.Javascript object>"
            ]
          },
          "metadata": {
            "tags": []
          }
        }
      ]
    },
    {
      "cell_type": "code",
      "metadata": {
        "id": "2pOeX038YNY5"
      },
      "source": [
        "# CONVENÇÃO PARA OS FLUXOS\n",
        "#\n",
        "# FLUXES: A -> K ; K -> O ; A -> O; #\n",
        "#\n",
        "#\n",
        "\n",
        "mzAK = []\n",
        "mzKO = []\n",
        "mzAO = []\n",
        "xx = []\n",
        "yy = []\n",
        "for i in range(len(lambd)):\n",
        "  for j in range(len(delta)):\n",
        "    xx.append(lambd[i])\n",
        "    yy.append(delta[j])\n",
        "    mzAK.append(m[i][j][0])\n",
        "    mzKO.append(m[i][j][1])\n",
        "    mzAO.append(m[i][j][2])"
      ],
      "execution_count": null,
      "outputs": []
    },
    {
      "cell_type": "code",
      "metadata": {
        "id": "40kV5WYcyGIv"
      },
      "source": [
        "szAK = []\n",
        "szKO = []\n",
        "szAO = []\n",
        "xx = []\n",
        "yy = []\n",
        "for i in range(len(lambd)):\n",
        "  for j in range(len(delta)):\n",
        "    xx.append(lambd[i])\n",
        "    yy.append(delta[j])\n",
        "    szAK.append(s[i][j][0])\n",
        "    szKO.append(s[i][j][1])\n",
        "    szAO.append(s[i][j][2])"
      ],
      "execution_count": null,
      "outputs": []
    },
    {
      "cell_type": "code",
      "metadata": {
        "id": "dJfzUs4tGEZJ"
      },
      "source": [
        "szline = []\n",
        "xline = []\n",
        "yline = []\n",
        "for i in range(len(lambd)):\n",
        "  for j in range(len(delta)):\n",
        "    xline.append(lambd[i])\n",
        "    yline.append(delta[i])\n",
        "    szline.append(s[i][j])"
      ],
      "execution_count": null,
      "outputs": []
    },
    {
      "cell_type": "code",
      "metadata": {
        "id": "b8YjtEkhHQX-",
        "colab": {
          "base_uri": "https://localhost:8080/",
          "height": 248
        },
        "outputId": "2baf2c25-1eb9-4a15-8e29-b455fdb0cd1c"
      },
      "source": [
        "ax = plt.axes(projection='3d')\n",
        "ax.scatter3D(xx, yy, mzAK, c=mzAK, cmap='Greens');\n",
        "\n",
        "ax.scatter3D(xx, yy, mzAO, c=mzAO, cmap='Reds');\n",
        "\n",
        "ax.scatter3D(xx, yy, mzKO, c=mzKO, cmap='Blues');\n",
        "ax.set_xlabel('$\\lambda$')\n",
        "ax.set_ylabel('$\\delta$')\n",
        "ax.set_title('$\\mu_{\\phi_{AO}}$', fontsize=15)\n",
        "#ax.scatter3D(xx, yy, mzKO, c=mzKO, cmap='Blues');"
      ],
      "execution_count": null,
      "outputs": [
        {
          "output_type": "display_data",
          "data": {
            "image/png": "[encoded data removed]",
            "text/plain": [
              "<Figure size 432x288 with 1 Axes>"
            ]
          },
          "metadata": {
            "tags": [],
            "needs_background": "light"
          }
        }
      ]
    },
    {
      "cell_type": "code",
      "metadata": {
        "id": "NH9uzMLJnubl",
        "colab": {
          "base_uri": "https://localhost:8080/",
          "height": 265
        },
        "outputId": "212db2af-2b95-489b-8be8-0af12364400d"
      },
      "source": [
        "ax = plt.axes(projection='3d')\n",
        "ax.scatter3D(xx, yy, mzAK, c=mzAK, cmap='Greens');\n",
        "ax.set_xlabel('$\\lambda$')\n",
        "ax.set_ylabel('$\\delta$')\n",
        "ax.set_title('$\\mu_{\\phi_{AK}}$', fontsize=15)"
      ],
      "execution_count": null,
      "outputs": [
        {
          "output_type": "execute_result",
          "data": {
            "text/plain": [
              "Text(0.5, 0.92, '$\\\\mu_{\\\\phi_{AK}}$')"
            ]
          },
          "metadata": {
            "tags": []
          },
          "execution_count": 143
        },
        {
          "output_type": "display_data",
          "data": {
            "image/png": "[encoded data removed]",
            "text/plain": [
              "<Figure size 432x288 with 1 Axes>"
            ]
          },
          "metadata": {
            "tags": [],
            "needs_background": "light"
          }
        }
      ]
    },
    {
      "cell_type": "code",
      "metadata": {
        "id": "aOJw5sVpcMKS",
        "colab": {
          "base_uri": "https://localhost:8080/",
          "height": 265
        },
        "outputId": "b4434d1b-fd5e-40b1-dbc9-575edd71e668"
      },
      "source": [
        "ax = plt.axes(projection='3d')\n",
        "#ax.scatter3D(xx, yy, mzAK, c=mzAK, cmap='Greens');\n",
        "ax.scatter3D(xx, yy, mzAO, c=mzAO, cmap='Reds');\n",
        "ax.set_xlabel('$\\lambda$')\n",
        "ax.set_ylabel('$\\delta$')\n",
        "ax.set_title('$\\mu_{\\phi_{AO}}$', fontsize=15)\n",
        "#ax.scatter3D(xx, yy, mzKO, c=mzKO, cmap='Blues');"
      ],
      "execution_count": null,
      "outputs": [
        {
          "output_type": "execute_result",
          "data": {
            "text/plain": [
              "Text(0.5, 0.92, '$\\\\mu_{\\\\phi_{AO}}$')"
            ]
          },
          "metadata": {
            "tags": []
          },
          "execution_count": 139
        },
        {
          "output_type": "display_data",
          "data": {
            "image/png": "[encoded data removed]",
            "text/plain": [
              "<Figure size 432x288 with 1 Axes>"
            ]
          },
          "metadata": {
            "tags": [],
            "needs_background": "light"
          }
        }
      ]
    },
    {
      "cell_type": "code",
      "metadata": {
        "id": "FXT1x7WRcSba",
        "colab": {
          "base_uri": "https://localhost:8080/",
          "height": 265
        },
        "outputId": "cf5c65a8-43ec-472e-ef84-58b852a519c4"
      },
      "source": [
        "ax = plt.axes(projection='3d')\n",
        "#ax.scatter3D(xx, yy, mzAK, c=mzAK, cmap='Greens');\n",
        "#ax.scatter3D(xx, yy, mzAO, c=mzAO, cmap='Reds');\n",
        "ax.scatter3D(xx, yy, mzKO, c=mzKO, cmap='Blues');\n",
        "ax.set_xlabel('$\\lambda$')\n",
        "ax.set_ylabel('$\\delta$')\n",
        "ax.set_title('$\\mu_{\\phi_{KO}}$', fontsize=15)\n",
        "\n"
      ],
      "execution_count": null,
      "outputs": [
        {
          "output_type": "execute_result",
          "data": {
            "text/plain": [
              "Text(0.5, 0.92, '$\\\\mu_{\\\\phi_{KO}}$')"
            ]
          },
          "metadata": {
            "tags": []
          },
          "execution_count": 138
        },
        {
          "output_type": "display_data",
          "data": {
            "image/png": "[encoded data removed]",
            "text/plain": [
              "<Figure size 432x288 with 1 Axes>"
            ]
          },
          "metadata": {
            "tags": [],
            "needs_background": "light"
          }
        }
      ]
    },
    {
      "cell_type": "code",
      "metadata": {
        "id": "uy30IhsbhD0X",
        "colab": {
          "base_uri": "https://localhost:8080/",
          "height": 309
        },
        "outputId": "6a31d9ad-7be7-4695-9b2f-d41bf2efb07f"
      },
      "source": [
        "\n",
        "plt.plot([0.1,0.2,0.3,0.4,0.5,0.6,0.7,0.8,0.9],m)\n",
        "plt.title('$\\delta$ effect on fluxes for $\\lambda = 0.2$',fontsize=20)\n",
        "plt.xlabel('$\\delta$',fontsize=20)\n",
        "plt.ylabel('$\\mu_{\\phi}$',fontsize=20)\n",
        "plt.legend([\"$\\mu_{\\phi_{A K}}$\",\"$\\mu_{\\phi_{K O}}$\",\"$\\mu_{\\phi_{O A}}$\"], fontsize = 15)\n",
        "plt.show()"
      ],
      "execution_count": null,
      "outputs": [
        {
          "output_type": "display_data",
          "data": {
            "image/png": "[encoded data removed]",
            "text/plain": [
              "<Figure size 432x288 with 1 Axes>"
            ]
          },
          "metadata": {
            "tags": [],
            "needs_background": "light"
          }
        }
      ]
    },
    {
      "cell_type": "code",
      "metadata": {
        "id": "o91LwT43Q69Y",
        "colab": {
          "base_uri": "https://localhost:8080/",
          "height": 309
        },
        "outputId": "2e7f57a8-031c-46c5-c932-a02a459fd0f3"
      },
      "source": [
        "plt.plot([0.1,0.2,0.3,0.4,0.5,0.6,0.7,0.8,0.9],s)\n",
        "plt.title('$\\delta$ effect on fluxes $\\sigma$ for $\\lambda = 0.2$',fontsize=20)\n",
        "plt.xlabel('$\\delta$',fontsize=20)\n",
        "plt.ylabel('$\\sigma_{\\phi}$',fontsize=20)\n",
        "plt.legend([\"$\\sigma_{\\phi_{A K}}$\",\"$\\sigma_{\\phi_{K O}}$\",\"$\\sigma_{\\phi_{O A}}$\"], fontsize = 15)\n",
        "plt.show()"
      ],
      "execution_count": null,
      "outputs": [
        {
          "output_type": "display_data",
          "data": {
            "image/png": "[encoded data removed]",
            "text/plain": [
              "<Figure size 432x288 with 1 Axes>"
            ]
          },
          "metadata": {
            "tags": [],
            "needs_background": "light"
          }
        }
      ]
    },
    {
      "cell_type": "code",
      "metadata": {
        "id": "uo0_9qTl2bHk",
        "colab": {
          "base_uri": "https://localhost:8080/",
          "height": 170
        },
        "outputId": "c80ab698-5dab-436c-9a8f-68eae70062d8"
      },
      "source": [
        "ml , sl = study_l(df,0.6,[0.1,0.2,0.3,0.4,0.5,0.6,0.7,0.8,0.9],300) "
      ],
      "execution_count": null,
      "outputs": [
        {
          "output_type": "stream",
          "text": [
            "debug\n",
            "debug\n",
            "debug\n",
            "debug\n",
            "debug\n",
            "debug\n",
            "debug\n",
            "debug\n",
            "debug\n"
          ],
          "name": "stdout"
        }
      ]
    },
    {
      "cell_type": "code",
      "metadata": {
        "id": "dcg_vKxlKlCM",
        "colab": {
          "base_uri": "https://localhost:8080/",
          "height": 309
        },
        "outputId": "43d6e88a-7363-4703-92c8-6b1ddc0ee213"
      },
      "source": [
        "plt.plot([0.1,0.2,0.3,0.4,0.5,0.6,0.7,0.8,0.9],ml)\n",
        "plt.title('$\\lambda$ effect on fluxes for $\\delta = 0.6$',fontsize=20)\n",
        "plt.xlabel('$\\lambda$',fontsize=20)\n",
        "plt.ylabel('$\\mu_{\\phi}$',fontsize=20)\n",
        "plt.legend([\"$\\mu_{\\phi_{A K}}$\",\"$\\mu_{\\phi_{K O}}$\",\"$\\mu_{\\phi_{O A}}$\"], fontsize = 15)\n",
        "plt.show()"
      ],
      "execution_count": null,
      "outputs": [
        {
          "output_type": "display_data",
          "data": {
            "image/png": "[encoded data removed]",
            "text/plain": [
              "<Figure size 432x288 with 1 Axes>"
            ]
          },
          "metadata": {
            "tags": [],
            "needs_background": "light"
          }
        }
      ]
    },
    {
      "cell_type": "code",
      "metadata": {
        "id": "lBvIL-lFXOK_",
        "colab": {
          "base_uri": "https://localhost:8080/",
          "height": 309
        },
        "outputId": "0fa73efa-4e50-4b80-eef6-13bb8054ed11"
      },
      "source": [
        "plt.plot([0.1,0.2,0.3,0.4,0.5,0.6,0.7,0.8,0.9],sl)\n",
        "plt.title('$\\lambda$ effect on fluxes for $\\delta = 0.6$',fontsize=20)\n",
        "plt.xlabel('$\\lambda$',fontsize=20)\n",
        "plt.ylabel('$\\sigma_{\\phi}$',fontsize=20)\n",
        "plt.legend([\"$\\sigma_{\\phi_{A K}}$\",\"$\\sigma_{\\phi_{K O}}$\",\"$\\sigma_{\\phi_{O A}}$\"], fontsize = 15)\n",
        "plt.show()"
      ],
      "execution_count": null,
      "outputs": [
        {
          "output_type": "display_data",
          "data": {
            "image/png": "[encoded data removed]",
            "text/plain": [
              "<Figure size 432x288 with 1 Axes>"
            ]
          },
          "metadata": {
            "tags": [],
            "needs_background": "light"
          }
        }
      ]
    },
    {
      "cell_type": "code",
      "metadata": {
        "id": "CvTh_FjqXzGQ",
        "colab": {
          "base_uri": "https://localhost:8080/",
          "height": 665
        },
        "outputId": "eecbe93f-1db5-457f-9a06-b63e6f6c2fc5"
      },
      "source": [
        "\n",
        "\n",
        "\n",
        "fig, axs = plt.subplots(2, 2)\n",
        "axs[0, 0].plot([0.1,0.2,0.3,0.4,0.5,0.6,0.7,0.8,0.9],ml)\n",
        "axs[0, 0].set_title('$\\lambda$ effect on fluxes $\\mu$ for $\\delta = 0.6$',fontsize=14)\n",
        "axs[0, 0].set_xlabel('$\\lambda$',fontsize=14)\n",
        "axs[0, 0].set_ylabel('$\\mu_{\\phi}$',fontsize=14)\n",
        "axs[0, 0].legend([\"$\\mu_{\\phi_{A K}}$\",\"$\\mu_{\\phi_{K O}}$\",\"$\\mu_{\\phi_{O A}}$\"])#, fontsize = 15)\n",
        "\n",
        "###\n",
        "axs[0, 1].plot([0.1,0.2,0.3,0.4,0.5,0.6,0.7,0.8,0.9],sl)\n",
        "axs[0, 1].set_title('$\\lambda$ effect on fluxes $\\sigma$ for $\\delta = 0.6$',fontsize=14)\n",
        "axs[0, 1].set_xlabel('$\\lambda$',fontsize=14)\n",
        "axs[0, 1].set_ylabel('$\\sigma_{\\phi}$',fontsize=14)\n",
        "axs[0, 1].legend([\"$\\sigma_{\\phi_{A K}}$\",\"$\\sigma_{\\phi_{K O}}$\",\"$\\sigma_{\\phi_{O A}}$\"])#, fontsize = 15)\n",
        "\n",
        "###\n",
        "axs[1, 0].plot([0.1,0.2,0.3,0.4,0.5,0.6,0.7,0.8,0.9],m)\n",
        "axs[1, 0].set_title('$\\delta$ effect on fluxes $\\mu$ for $\\lambda = 0.2$',fontsize=14)\n",
        "axs[1, 0].set_xlabel('$\\delta$',fontsize=14)\n",
        "axs[1, 0].set_ylabel('$\\mu_{\\phi}$',fontsize=14)\n",
        "axs[1, 0].legend([\"$\\mu_{\\phi_{A K}}$\",\"$\\mu_{\\phi_{K O}}$\",\"$\\mu_{\\phi_{O A}}$\"])#, fontsize = 15)\n",
        "\n",
        "####\n",
        "axs[1, 1].plot([0.1,0.2,0.3,0.4,0.5,0.6,0.7,0.8,0.9],s)\n",
        "axs[1, 1].set_title('$\\delta$ effect on fluxes $\\sigma$ for $\\lambda = 0.2$',fontsize=14)\n",
        "axs[1, 1].set_xlabel('$\\delta$',fontsize=14)\n",
        "axs[1, 1].set_ylabel('$\\sigma_{\\phi}$',fontsize=14)\n",
        "axs[1, 1].legend([\"$\\sigma_{\\phi_{A K}}$\",\"$\\sigma_{\\phi_{K O}}$\",\"$\\sigma_{\\phi_{O A}}$\"])#, fontsize = 15)\n",
        "\n",
        "\n",
        "fig.tight_layout(pad= 0.1)\n",
        "fig.set_figheight(10)\n",
        "fig.set_figwidth(10)\n",
        "\n"
      ],
      "execution_count": null,
      "outputs": [
        {
          "output_type": "display_data",
          "data": {
            "image/png": "[encoded data removed]",
            "text/plain": [
              "<Figure size 720x720 with 4 Axes>"
            ]
          },
          "metadata": {
            "tags": [],
            "needs_background": "light"
          }
        }
      ]
    },
    {
      "cell_type": "code",
      "metadata": {
        "id": "MUmNFqoChD0a"
      },
      "source": [
        "import seaborn as sns\n",
        "import matplotlib.pyplot as plt\n",
        "sns.set(style=\"white\", context=\"talk\")\n",
        "rs = np.random.RandomState(8)"
      ],
      "execution_count": null,
      "outputs": []
    },
    {
      "cell_type": "code",
      "metadata": {
        "id": "ToQZzBDwhD0e",
        "outputId": "28e1ab60-d12f-4e89-9653-b1c394644c5e"
      },
      "source": [
        "a=np.transpose([Plista[3][np.where(Plista[3]-Plista[4][0:len(Plista[3])] != 0)]\n",
        ",Plista[4][np.where(Plista[3]-Plista[4][0:len(Plista[3])] != 0)]])\n",
        "for i in a:\n",
        "    print(i[0])"
      ],
      "execution_count": null,
      "outputs": [
        {
          "output_type": "stream",
          "text": [
            "0.0\n",
            "0.0\n",
            "0.0\n",
            "1.0\n",
            "1.0\n",
            "0.0\n"
          ],
          "name": "stdout"
        }
      ]
    },
    {
      "cell_type": "code",
      "metadata": {
        "id": "Ms2wc9_ZhD0h"
      },
      "source": [
        "ax = plt.axes(projection='3d')\n",
        "\n",
        "# Data for a three-dimensional line\n",
        "zline = np.linspace(0, 15, 1000)\n",
        "xline = np.sin(zline)\n",
        "yline = np.cos(zline)\n",
        "ax.plot3D(xline, yline, zline, 'gray')\n",
        "\n",
        "# Data for three-dimensional scattered points\n",
        "zdata = 15 * np.random.random(100)\n",
        "xdata = np.sin(zdata) + 0.1 * np.random.randn(100)\n",
        "ydata = np.cos(zdata) + 0.1 * np.random.randn(100)\n",
        "ax.scatter3D(xdata, ydata, zdata, c=zdata, cmap='Greens');"
      ],
      "execution_count": null,
      "outputs": []
    },
    {
      "cell_type": "code",
      "metadata": {
        "id": "DaNwfwNBhD0l",
        "outputId": "5274997a-04af-47da-9fde-bee8c95afddb"
      },
      "source": [
        "i=100\n",
        "j=110\n",
        "k=120\n",
        "\n",
        "\n",
        "Ai = np.where(Plista[i]==1)\n",
        "Oi = np.where(Plista[i]==-1)\n",
        "Ki = np.where(Plista[i]==0)\n",
        "\n",
        "Aj = np.where(Plista[j]==1)\n",
        "Oj = np.where(Plista[j]==-1)\n",
        "Kj = np.where(Plista[j]==0)\n",
        "\n",
        "Ak = np.where(Plista[k]==1)\n",
        "Ok = np.where(Plista[k]==-1)\n",
        "Kk = np.where(Plista[k]==0)\n",
        "\n",
        "#)\n",
        "#print()\n",
        "#print()\n",
        "f, (ax1, ax2, ax3) = plt.subplots(3, 1, figsize=(5, 10), sharex=True)\n",
        "\n",
        "x = np.array(list(\"AOK\"))\n",
        "\n",
        "y1 = np.array([len(Ai[0]),len(Oi[0]),len(Ki[0])])\n",
        "\n",
        "sns.barplot(x=x, y=y1, palette=\"deep\", ax=ax1)\n",
        "ax1.axhline(0, color=\"k\", clip_on=False)\n",
        "ax1.set_ylabel(str(i))\n",
        "\n",
        "y2 = np.array([len(Aj[0]),len(Oj[0]),len(Kj[0])])\n",
        "\n",
        "sns.barplot(x=x, y=y2, palette=\"deep\", ax=ax2)\n",
        "ax2.axhline(0, color=\"k\", clip_on=False)\n",
        "ax2.set_ylabel(str(j))\n",
        "\n",
        "\n",
        "y3 = np.array([len(Ak[0]),len(Ok[0]),len(Kk[0])])\n",
        "\n",
        "sns.barplot(x=x, y=y3, palette=\"deep\", ax=ax3)\n",
        "ax3.axhline(0, color=\"k\", clip_on=False)\n",
        "ax3.set_ylabel(str(k))"
      ],
      "execution_count": null,
      "outputs": [
        {
          "output_type": "execute_result",
          "data": {
            "text/plain": [
              "Text(0, 0.5, '120')"
            ]
          },
          "metadata": {
            "tags": []
          },
          "execution_count": 12
        },
        {
          "output_type": "display_data",
          "data": {
            "image/png": "[encoded data removed]",
            "text/plain": [
              "<Figure size 360x720 with 3 Axes>"
            ]
          },
          "metadata": {
            "tags": []
          }
        }
      ]
    },
    {
      "cell_type": "code",
      "metadata": {
        "id": "v7HkihgChD0o"
      },
      "source": [
        "def create_visualization(Plista,t):\n",
        "    mapa = np.zeros((18,18))\n",
        "    \n",
        "    k=0\n",
        "    j=0\n",
        "    for i in Plista[t]:\n",
        "        \n",
        "        if(k%18 ==0 and k!=0):\n",
        "            k=0\n",
        "            j+=1\n",
        "        if i==0:\n",
        "            mapa[k][j]=0.5\n",
        "        else:\n",
        "            mapa[k][j]=i\n",
        "        k+=1\n",
        "    \n",
        "    return mapa"
      ],
      "execution_count": null,
      "outputs": []
    },
    {
      "cell_type": "code",
      "metadata": {
        "id": "r1Xw1zeghD0r"
      },
      "source": [
        "mapa = create_visualization(Plista,110);"
      ],
      "execution_count": null,
      "outputs": []
    },
    {
      "cell_type": "markdown",
      "metadata": {
        "id": "cwrHYvMdUUGG"
      },
      "source": [
        "#animacoes e representacoes da dinamica"
      ]
    },
    {
      "cell_type": "code",
      "metadata": {
        "id": "cQHBVAa1UM64",
        "colab": {
          "base_uri": "https://localhost:8080/",
          "height": 265
        },
        "outputId": "61b74fb3-f74e-4fd5-af17-4920e8244ad1"
      },
      "source": [
        "fig = plt.figure()\n",
        "camera = Camera(fig)\n",
        "for i in range(10):\n",
        "    plt.plot([i] * 10)\n",
        "    camera.snap()\n",
        "animation = camera.animate()\n",
        "animation.save('test.gif', writer = 'pillow')"
      ],
      "execution_count": null,
      "outputs": [
        {
          "output_type": "display_data",
          "data": {
            "image/png": "[encoded data removed]",
            "text/plain": [
              "<Figure size 432x288 with 1 Axes>"
            ]
          },
          "metadata": {
            "tags": [],
            "needs_background": "light"
          }
        }
      ]
    },
    {
      "cell_type": "code",
      "metadata": {
        "id": "6RfahrKzhD0v",
        "outputId": "a17e9b19-2e20-45ab-8a58-ceded8a0110a"
      },
      "source": [
        "for i in range(5,120,5):\n",
        "    #plt.imshow(np.sort( create_visualization(Plista,i)))\n",
        "    plt.imshow( create_visualization(Plista,i), cmap = 'magma')\n",
        "    plt.savefig('partisanloc' + str(i)+'.png')"
      ],
      "execution_count": null,
      "outputs": [
        {
          "output_type": "display_data",
          "data": {
            "image/png": "[encoded data removed]",
            "text/plain": [
              "<Figure size 432x288 with 1 Axes>"
            ]
          },
          "metadata": {
            "tags": [],
            "needs_background": "light"
          }
        }
      ]
    },
    {
      "cell_type": "code",
      "metadata": {
        "id": "LqQe7gCVUSpu",
        "colab": {
          "base_uri": "https://localhost:8080/",
          "height": 265
        },
        "outputId": "d3a553ed-6335-4b77-8050-f52e52236bcd"
      },
      "source": [
        "fig = plt.figure()\n",
        "camera = Camera(fig)\n",
        "for i in range(5,120,5):\n",
        "    #plt.imshow(np.sort( create_visualization(Plista,i)))\n",
        "    plt.imshow( create_visualization(Plista,i), cmap = 'magma')\n",
        "    camera.snap()\n",
        "animation = camera.animate()\n",
        "animation.save('modeldynamic.gif', writer = 'pillow')"
      ],
      "execution_count": null,
      "outputs": [
        {
          "output_type": "display_data",
          "data": {
            "image/png": "[encoded data removed]",
            "text/plain": [
              "<Figure size 432x288 with 1 Axes>"
            ]
          },
          "metadata": {
            "tags": [],
            "needs_background": "light"
          }
        }
      ]
    },
    {
      "cell_type": "code",
      "metadata": {
        "id": "lPYTmU9DhD0z",
        "outputId": "6ea4caa5-8b2b-4d2a-86e6-821a13039a50"
      },
      "source": [
        "for i in range(5,120,5):\n",
        "    plt.imshow(np.sort( create_visualization(Plista,i)), cmap = 'magma')\n",
        "    #plt.imshow( create_visualization(Plista,i))\n",
        "    plt.savefig('partisan' + str(i)+'.png')"
      ],
      "execution_count": null,
      "outputs": [
        {
          "output_type": "display_data",
          "data": {
            "image/png": "[encoded data removed]",
            "text/plain": [
              "<Figure size 432x288 with 1 Axes>"
            ]
          },
          "metadata": {
            "tags": [],
            "needs_background": "light"
          }
        }
      ]
    },
    {
      "cell_type": "code",
      "metadata": {
        "id": "yDx8-s3WxW82",
        "colab": {
          "base_uri": "https://localhost:8080/",
          "height": 265
        },
        "outputId": "e389f7f2-d14c-44c5-979e-913e721979b4"
      },
      "source": [
        "fig = plt.figure()\n",
        "camera = Camera(fig)\n",
        "for i in range(5,120,5):\n",
        "    #plt.imshow(np.sort( create_visualization(Plista,i)))\n",
        "    plt.imshow( np.sort(create_visualization(Plista,i)), cmap = 'magma')\n",
        "    camera.snap()\n",
        "animation = camera.animate()\n",
        "animation.save('sortedmodeldynamic.gif', writer = 'pillow')"
      ],
      "execution_count": null,
      "outputs": [
        {
          "output_type": "display_data",
          "data": {
            "image/png": "[encoded data removed]",
            "text/plain": [
              "<Figure size 432x288 with 1 Axes>"
            ]
          },
          "metadata": {
            "tags": [],
            "needs_background": "light"
          }
        }
      ]
    },
    {
      "cell_type": "code",
      "metadata": {
        "id": "V45ZuxUehD05",
        "colab": {
          "base_uri": "https://localhost:8080/",
          "height": 51
        },
        "outputId": "f9e15c80-ec59-4343-d80a-7253f0f6a004"
      },
      "source": [
        "import os\n",
        "print( os.getcwd() )\n",
        "print( os.listdir() )"
      ],
      "execution_count": null,
      "outputs": [
        {
          "output_type": "stream",
          "text": [
            "/content\n",
            "['.config', 'modeldynamic.gif', 'data.csv', 'sortedmodeldynamic.gif', 'test.gif', 'sample_data']\n"
          ],
          "name": "stdout"
        }
      ]
    },
    {
      "cell_type": "code",
      "metadata": {
        "id": "szpkdG3ihD09"
      },
      "source": [
        "from google.colab import files\n",
        "files.download( \"sortedmodeldynamic.gif\" )    "
      ],
      "execution_count": null,
      "outputs": []
    },
    {
      "cell_type": "code",
      "metadata": {
        "id": "MErnnTlThD0_"
      },
      "source": [
        "#Plista#"
      ],
      "execution_count": null,
      "outputs": []
    },
    {
      "cell_type": "code",
      "metadata": {
        "id": "PNilltcbhD1E"
      },
      "source": [
        "tempo = da.time[1::100]"
      ],
      "execution_count": null,
      "outputs": []
    },
    {
      "cell_type": "code",
      "metadata": {
        "id": "hxIRL5wfhD1G",
        "outputId": "6846b7d7-603e-4e6c-ab9b-63772262bf41"
      },
      "source": [
        "len(tempo)"
      ],
      "execution_count": null,
      "outputs": [
        {
          "output_type": "execute_result",
          "data": {
            "text/plain": [
              "122"
            ]
          },
          "metadata": {
            "tags": []
          },
          "execution_count": 26
        }
      ]
    },
    {
      "cell_type": "code",
      "metadata": {
        "id": "B1ZtIjw-hD1L"
      },
      "source": [
        ""
      ],
      "execution_count": null,
      "outputs": []
    }
  ]
}