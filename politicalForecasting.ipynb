{
 "cells": [
  {
   "cell_type": "code",
   "execution_count": 117,
   "metadata": {},
   "outputs": [],
   "source": [
    "import numpy as np\n",
    "import pandas as pd\n",
    "import matplotlib.pyplot as plt\n",
    "import time\n",
    "\n",
    "from celluloid import Camera"
   ]
  },
  {
   "cell_type": "code",
   "execution_count": 5,
   "metadata": {},
   "outputs": [],
   "source": [
    "df = pd.read_table('data.csv', delimiter=';')\n",
    "da = df.sort_values(by=['time'])"
   ]
  },
  {
   "cell_type": "code",
   "execution_count": 13,
   "metadata": {},
   "outputs": [],
   "source": [
    "ids = df.id_politico.unique()"
   ]
  },
  {
   "cell_type": "code",
   "execution_count": 38,
   "metadata": {},
   "outputs": [],
   "source": [
    "info = []\n",
    "for id_politico in ids:\n",
    "    info.append([id_politico,da.iloc[np.where(da.id_politico==id_politico)].set_index('time')['isFavorable']])"
   ]
  },
  {
   "cell_type": "code",
   "execution_count": 108,
   "metadata": {},
   "outputs": [
    {
     "data": {
      "text/plain": [
       "time\n",
       "2019-01-30 00:31:08    1\n",
       "2019-03-21 11:02:32    1\n",
       "2019-03-22 14:47:27    1\n",
       "2019-03-22 15:14:29    1\n",
       "2019-03-22 15:21:40    1\n",
       "                      ..\n",
       "2019-07-10 18:17:06    1\n",
       "2019-07-10 20:52:01    1\n",
       "2019-07-10 22:32:21    1\n",
       "2019-07-10 23:26:46    1\n",
       "2019-07-11 14:05:13    1\n",
       "Name: isFavorable, Length: 80, dtype: int64"
      ]
     },
     "execution_count": 108,
     "metadata": {},
     "output_type": "execute_result"
    }
   ],
   "source": [
    "info[0][1]"
   ]
  },
  {
   "cell_type": "code",
   "execution_count": 94,
   "metadata": {},
   "outputs": [],
   "source": [
    "P = []\n",
    "p1 = []\n",
    "p0 = []\n",
    "p_1 = []\n",
    "\n",
    "p_11 = []\n",
    "p1_1 = []\n",
    "p01 = []\n",
    "p0_1 = []\n",
    "\n",
    "for i in range(len(info)):\n",
    "    id_politico = info[i][0]\n",
    "    serie = info[i][1]\n",
    "    if len(serie)==1:\n",
    "        continue\n",
    "    #for j in range(len(serie)):\n",
    "\n",
    "    #manter a posicao\n",
    "    \n",
    "    P.append([id_politico,[serie[k] for k in range(1,len(serie)) if serie[k-1]==serie[k]],serie])\n",
    "    p1.append([id_politico,[serie[k] for k in range(1,len(serie)) if (serie[k-1]==serie[k] and serie[k-1]==1)],[x for x in serie if x==1]])\n",
    "    p0.append([id_politico,[serie[k] for k in range(1,len(serie)) if (serie[k-1]==serie[k] and serie[k-1]==0)],[x for x in serie if x==0]])\n",
    "    p_1.append([id_politico,[serie[k] for k in range(1,len(serie)) if (serie[k-1]==serie[k] and serie[k-1]==-1)],[x for x in serie if x==-1]])\n",
    "    \n",
    "    # transicoes\n",
    "    \n",
    "    p_11.append([id_politico,[serie[k] for k in range(1,len(serie)) if (serie[k-1]==-1 and serie[k-1]==1)],serie])\n",
    "    p1_1.append([id_politico,[serie[k] for k in range(1,len(serie)) if (serie[k-1]==1 and serie[k-1]==-1)],serie])\n",
    "    p01.append([id_politico,[serie[k] for k in range(1,len(serie)) if (serie[k-1]==0 and serie[k-1]==1)],serie])\n",
    "    p0_1.append([id_politico,[serie[k] for k in range(1,len(serie)) if (serie[k-1]==0 and serie[k-1]==-1)],serie])\n",
    "    "
   ]
  },
  {
   "cell_type": "code",
   "execution_count": 118,
   "metadata": {},
   "outputs": [],
   "source": [
    "def tryD(x,y):\n",
    "    try:\n",
    "        return x/y\n",
    "    except:\n",
    "        return 0"
   ]
  },
  {
   "cell_type": "code",
   "execution_count": 169,
   "metadata": {},
   "outputs": [],
   "source": [
    "info_s = [[x[0],score(x[1])] for x in P if len(score(x[1]))>0]"
   ]
  },
  {
   "cell_type": "code",
   "execution_count": 170,
   "metadata": {},
   "outputs": [],
   "source": [
    "delta = .25"
   ]
  },
  {
   "cell_type": "code",
   "execution_count": null,
   "metadata": {},
   "outputs": [],
   "source": [
    "Omega = []\n",
    "Lambda = []\n",
    "K = []\n",
    "\n",
    "for i in range(1,len(info_s)):\n",
    "    O = [x for x in info if abs(score(x[1][:i])[-1])<=-delta]\n",
    "    L = [x for x in info if abs(score(x[1][:i])[-1])>=+delta]\n",
    "    k = [x for x in info if abs(score(x[1][:i])[-1])<=delta]\n",
    "    \n",
    "    Omega.append(O)\n",
    "    Lambda.append(L)\n",
    "    K.append(k)"
   ]
  },
  {
   "cell_type": "code",
   "execution_count": null,
   "metadata": {},
   "outputs": [],
   "source": [
    "Omega"
   ]
  },
  {
   "cell_type": "code",
   "execution_count": null,
   "metadata": {},
   "outputs": [],
   "source": []
  },
  {
   "cell_type": "code",
   "execution_count": null,
   "metadata": {},
   "outputs": [],
   "source": []
  },
  {
   "cell_type": "code",
   "execution_count": 132,
   "metadata": {},
   "outputs": [],
   "source": [
    "i=1"
   ]
  },
  {
   "cell_type": "code",
   "execution_count": 139,
   "metadata": {},
   "outputs": [
    {
     "data": {
      "text/plain": [
       "False"
      ]
     },
     "execution_count": 139,
     "metadata": {},
     "output_type": "execute_result"
    }
   ],
   "source": [
    "score(info[0][1][:i])[-1]<=-delta"
   ]
  },
  {
   "cell_type": "code",
   "execution_count": null,
   "metadata": {},
   "outputs": [],
   "source": []
  },
  {
   "cell_type": "code",
   "execution_count": null,
   "metadata": {},
   "outputs": [],
   "source": []
  },
  {
   "cell_type": "code",
   "execution_count": 103,
   "metadata": {},
   "outputs": [],
   "source": [
    "df_prob = pd.DataFrame([len(x[1])/len(x[2]) for x in P])\n",
    "\n",
    "df_prob1 = pd.DataFrame([tryD(len(x[1]),len(x[2])) for x in p1])\n",
    "df_prob0 = pd.DataFrame([tryD(len(x[1]),len(x[2])) for x in p0])\n",
    "df_prob_1 = pd.DataFrame([tryD(len(x[1]),len(x[2])) for x in p_1])\n",
    "\n",
    "df_prob1.columns = ['Prob de se manter no 1']\n",
    "df_prob0.columns = ['Prob de se manter no 0']\n",
    "df_prob_1.columns = ['Prob de se manter no -1']\n",
    "\n",
    "df_prob_11 = pd.DataFrame([tryD(len(x[1]),len(x[2])) for x in p_11])\n",
    "df_prob1_1 = pd.DataFrame([tryD(len(x[1]),len(x[2])) for x in p1_1])\n",
    "df_prob01 = pd.DataFrame([tryD(len(x[1]),len(x[2])) for x in p01])\n",
    "df_prob0_1 = pd.DataFrame([tryD(len(x[1]),len(x[2])) for x in p0_1])\n"
   ]
  },
  {
   "cell_type": "code",
   "execution_count": null,
   "metadata": {},
   "outputs": [],
   "source": []
  },
  {
   "cell_type": "code",
   "execution_count": 104,
   "metadata": {},
   "outputs": [
    {
     "name": "stdout",
     "output_type": "stream",
     "text": [
      "0    0.696796\n",
      "dtype: float64\n"
     ]
    },
    {
     "data": {
      "image/png": "[encoded data removed]",
      "text/plain": [
       "<Figure size 1008x504 with 1 Axes>"
      ]
     },
     "metadata": {
      "needs_background": "light"
     },
     "output_type": "display_data"
    }
   ],
   "source": [
    "df_prob.hist(figsize=(14,7),grid=True)\n",
    "print(df_prob.mean())"
   ]
  },
  {
   "cell_type": "code",
   "execution_count": 105,
   "metadata": {},
   "outputs": [
    {
     "name": "stdout",
     "output_type": "stream",
     "text": [
      "Prob de se manter no 1    0.375341\n",
      "dtype: float64\n"
     ]
    },
    {
     "data": {
      "image/png": "[encoded data removed]",
      "text/plain": [
       "<Figure size 1008x504 with 1 Axes>"
      ]
     },
     "metadata": {
      "needs_background": "light"
     },
     "output_type": "display_data"
    }
   ],
   "source": [
    "df_prob1.hist(figsize=(14,7),grid=True)\n",
    "print(df_prob1.mean())"
   ]
  },
  {
   "cell_type": "code",
   "execution_count": 106,
   "metadata": {},
   "outputs": [
    {
     "name": "stdout",
     "output_type": "stream",
     "text": [
      "Prob de se manter no 0    0.273641\n",
      "dtype: float64\n"
     ]
    },
    {
     "data": {
      "image/png": "[encoded data removed]",
      "text/plain": [
       "<Figure size 1008x504 with 1 Axes>"
      ]
     },
     "metadata": {
      "needs_background": "light"
     },
     "output_type": "display_data"
    }
   ],
   "source": [
    "df_prob0.hist(figsize=(14,7),grid=True)\n",
    "print(df_prob0.mean())"
   ]
  },
  {
   "cell_type": "code",
   "execution_count": 107,
   "metadata": {},
   "outputs": [
    {
     "name": "stdout",
     "output_type": "stream",
     "text": [
      "Prob de se manter no -1    0.303332\n",
      "dtype: float64\n"
     ]
    },
    {
     "data": {
      "image/png": "[encoded data removed]",
      "text/plain": [
       "<Figure size 1008x504 with 1 Axes>"
      ]
     },
     "metadata": {
      "needs_background": "light"
     },
     "output_type": "display_data"
    }
   ],
   "source": [
    "df_prob_1.hist(figsize=(14,7),grid=True)\n",
    "print(df_prob_1.mean())"
   ]
  },
  {
   "cell_type": "code",
   "execution_count": null,
   "metadata": {},
   "outputs": [],
   "source": []
  },
  {
   "cell_type": "code",
   "execution_count": 88,
   "metadata": {},
   "outputs": [
    {
     "name": "stdout",
     "output_type": "stream",
     "text": [
      "0    0.0\n",
      "dtype: float64\n"
     ]
    },
    {
     "data": {
      "image/png": "[encoded data removed]",
      "text/plain": [
       "<Figure size 1008x504 with 1 Axes>"
      ]
     },
     "metadata": {
      "needs_background": "light"
     },
     "output_type": "display_data"
    }
   ],
   "source": [
    "df_prob1_1.hist(figsize=(14,7),grid=True)\n",
    "print(df_prob1_1.mean())"
   ]
  },
  {
   "cell_type": "code",
   "execution_count": 87,
   "metadata": {},
   "outputs": [
    {
     "name": "stdout",
     "output_type": "stream",
     "text": [
      "0    0.0\n",
      "dtype: float64\n"
     ]
    },
    {
     "data": {
      "image/png": "[encoded data removed]",
      "text/plain": [
       "<Figure size 1008x504 with 1 Axes>"
      ]
     },
     "metadata": {
      "needs_background": "light"
     },
     "output_type": "display_data"
    }
   ],
   "source": [
    "df_prob_11.hist(figsize=(14,7),grid=True)\n",
    "print(df_prob_11.mean())"
   ]
  },
  {
   "cell_type": "code",
   "execution_count": 86,
   "metadata": {},
   "outputs": [
    {
     "name": "stdout",
     "output_type": "stream",
     "text": [
      "0    0.0\n",
      "dtype: float64\n"
     ]
    },
    {
     "data": {
      "image/png": "[encoded data removed]",
      "text/plain": [
       "<Figure size 1008x504 with 1 Axes>"
      ]
     },
     "metadata": {
      "needs_background": "light"
     },
     "output_type": "display_data"
    }
   ],
   "source": [
    "df_prob0_1.hist(figsize=(14,7),grid=True)\n",
    "print(df_prob0_1.mean())"
   ]
  },
  {
   "cell_type": "code",
   "execution_count": 85,
   "metadata": {},
   "outputs": [
    {
     "name": "stdout",
     "output_type": "stream",
     "text": [
      "0    0.0\n",
      "dtype: float64\n"
     ]
    },
    {
     "data": {
      "image/png": "[encoded data removed]",
      "text/plain": [
       "<Figure size 1008x504 with 1 Axes>"
      ]
     },
     "metadata": {
      "needs_background": "light"
     },
     "output_type": "display_data"
    }
   ],
   "source": [
    "df_prob01.hist(figsize=(14,7),grid=True)\n",
    "print(df_prob01.mean())"
   ]
  },
  {
   "cell_type": "code",
   "execution_count": null,
   "metadata": {},
   "outputs": [],
   "source": []
  },
  {
   "cell_type": "code",
   "execution_count": 121,
   "metadata": {},
   "outputs": [],
   "source": [
    "def score(vec,Lambda=.96):\n",
    "    try:\n",
    "        r = [vec[0]]\n",
    "        for i in range(1,len(vec)):\n",
    "            r.append(r[-1]*(Lambda)+vec[i]*(1-Lambda))\n",
    "        return r\n",
    "    except:\n",
    "        return []"
   ]
  },
  {
   "cell_type": "code",
   "execution_count": 116,
   "metadata": {},
   "outputs": [
    {
     "data": {
      "text/plain": [
       "[1.0,\n",
       " -1.0,\n",
       " -0.9985355625556553,\n",
       " 0.685174966469315,\n",
       " -0.9754164227715898,\n",
       " 0.822757789696,\n",
       " -1.0,\n",
       " 1.0,\n",
       " -1.0,\n",
       " -0.12302644252581396,\n",
       " 0.96,\n",
       " -0.8011448603858211,\n",
       " -1.0,\n",
       " 0.3051094648841728,\n",
       " -1.0,\n",
       " 0.2402104210161666,\n",
       " -1.0,\n",
       " -1.0,\n",
       " -0.9827020211734705,\n",
       " 0.3029414529166345,\n",
       " 0.898021789696,\n",
       " -0.9712627601843222,\n",
       " -0.9995530876691631,\n",
       " 0.07840000000000007,\n",
       " -0.6501015710190419,\n",
       " 0.10622730240000008,\n",
       " 0.0,\n",
       " 0.49777710367673034,\n",
       " 0,\n",
       " 0.9660261376,\n",
       " 0.9936281509594642,\n",
       " 0.9445511114009866,\n",
       " -1.0,\n",
       " -0.9997715751519543,\n",
       " 0.0,\n",
       " -1.0,\n",
       " 0.855011229696,\n",
       " 0.96461056,\n",
       " 0.9668692269026555,\n",
       " -1.0,\n",
       " 0.7936027152777528,\n",
       " 0.9990645653970985,\n",
       " 0.6805297239930279,\n",
       " 0.18185277030400016,\n",
       " 0.9616,\n",
       " -0.976471945318537,\n",
       " 0.967385092096,\n",
       " 0.7137684417363607,\n",
       " -0.040000000000000036,\n",
       " 0.9216,\n",
       " 0.004249092096000006,\n",
       " 0.9616,\n",
       " 0.0,\n",
       " -1.0,\n",
       " 0.15065344000000014,\n",
       " 0.4420024338794074,\n",
       " 0.9867143354297458,\n",
       " 0.782757789696,\n",
       " -1.0,\n",
       " -0.997803939760353,\n",
       " 0.040000000000000036,\n",
       " 0.7654609805996802,\n",
       " -0.9216,\n",
       " 0.9491259838890147,\n",
       " 0.8865972655756665,\n",
       " -0.9995530876691631,\n",
       " 0.4608223475618232,\n",
       " 0.35146944799639374,\n",
       " 1.0,\n",
       " 0.822757789696,\n",
       " -0.6883771036169144,\n",
       " -0.3442937119676479,\n",
       " 1.0,\n",
       " 0.2305861375031045,\n",
       " -1.0,\n",
       " 0.89932638601216,\n",
       " -1.0,\n",
       " 1.0,\n",
       " 0.1614516659066029,\n",
       " -0.3485730218384896,\n",
       " -0.9977972840605807,\n",
       " 1.0,\n",
       " -0.999513599383258,\n",
       " 0.9616,\n",
       " 0.9216,\n",
       " 0.8937726976,\n",
       " 0.07538944000000006,\n",
       " 0.0,\n",
       " 0.03686400000000003,\n",
       " -0.9998283507239988,\n",
       " -1.0,\n",
       " 0.3058600118920687,\n",
       " 0.9216,\n",
       " 0.0,\n",
       " 0.9199999999999999,\n",
       " 0.866181644786818,\n",
       " 0.7752351758888201,\n",
       " 0.9957800794436091,\n",
       " -1.0,\n",
       " -0.9999979125749078,\n",
       " 0.31489430420311865,\n",
       " -1.0,\n",
       " -1.0,\n",
       " 0.7048326359915009,\n",
       " 0.8783155215508544,\n",
       " 1.0,\n",
       " 0.9998785003343142,\n",
       " 0.180497852482553,\n",
       " 0,\n",
       " -1.0,\n",
       " -0.9823394371756162,\n",
       " 1.0,\n",
       " 0.821265300419648,\n",
       " -0.03538944000000003,\n",
       " 0.5266872545327526,\n",
       " 0.0,\n",
       " 0.30746600417552,\n",
       " -1.0,\n",
       " -1.0,\n",
       " 0.9860683788588728,\n",
       " 1.0,\n",
       " -0.4554979169116817,\n",
       " 0.7298321804556779,\n",
       " -0.9778830983398841,\n",
       " 0.989167231839943,\n",
       " 0.809227414252337,\n",
       " -1.0,\n",
       " 0.7238076864683066,\n",
       " -1.0,\n",
       " -0.9660542130780613,\n",
       " 0.578846836175667,\n",
       " 0.040000000000000036,\n",
       " -0.9988059376905383,\n",
       " -1.0,\n",
       " 0.9744704267779264,\n",
       " 0.0,\n",
       " -0.9833940442804638,\n",
       " -1.0,\n",
       " 1.0,\n",
       " 1,\n",
       " -1.0,\n",
       " -0.9938880798953366,\n",
       " 0.9097762061284802,\n",
       " -1.0,\n",
       " 1.0,\n",
       " -1.0,\n",
       " -0.08760416990096571,\n",
       " -0.998830778637059,\n",
       " -1.0,\n",
       " 1,\n",
       " 0.21519716370211786,\n",
       " -1.0,\n",
       " 0.96,\n",
       " -1.0,\n",
       " -0.7659032545708379,\n",
       " 0.5076506113436536,\n",
       " 0.9867143354297458,\n",
       " -1.0,\n",
       " 0,\n",
       " -1.0,\n",
       " 0.96868968841216,\n",
       " -1.0,\n",
       " -1.0,\n",
       " 1.0,\n",
       " 0.9233687310450756,\n",
       " 0.16092683144827905,\n",
       " 0.9268404814260752,\n",
       " -0.9906230599790272,\n",
       " 0.7902245672234299,\n",
       " 0.8922981375999999,\n",
       " -1.0,\n",
       " -1.0,\n",
       " -1.0,\n",
       " 0.84934656,\n",
       " -0.9996776021018149,\n",
       " 0.911193822859445,\n",
       " 0.03840000000000003,\n",
       " 0.03397386240000003,\n",
       " 0.8435730217716051,\n",
       " -0.9970687027322723,\n",
       " 1.0,\n",
       " 0.828732569223973,\n",
       " -0.41845355091030906,\n",
       " 0.040000000000000036,\n",
       " -0.9783344636798864,\n",
       " 0.9587918479633605,\n",
       " 1,\n",
       " 1.0,\n",
       " -1.0,\n",
       " 0.884736,\n",
       " -0.9660261376,\n",
       " -1.0,\n",
       " -1.0,\n",
       " -1.0,\n",
       " 0.963136,\n",
       " 0.986363450258162,\n",
       " 0.9867143354297458,\n",
       " -0.861157789696,\n",
       " -0.9791384521745852,\n",
       " 0.6533939126661227,\n",
       " -1.0,\n",
       " 0.913385157883341,\n",
       " 0.17324037249420465,\n",
       " -1.0,\n",
       " 0.9783203513203071,\n",
       " 0.4932423032368002,\n",
       " -0.9999395337888276,\n",
       " 0.2652786552786539,\n",
       " 0.08313195275091248,\n",
       " 0.6936754270041536,\n",
       " 0.9996999176525849,\n",
       " 0,\n",
       " 1.0,\n",
       " 0.8893397916731345,\n",
       " 0.967385092096,\n",
       " 0.7007519133744655,\n",
       " 0.7769259730227109,\n",
       " 0,\n",
       " 1,\n",
       " 0,\n",
       " 0,\n",
       " -0.9660261376,\n",
       " 0.02770135983297923,\n",
       " -0.691757590163073,\n",
       " 0,\n",
       " 1.0,\n",
       " 0.1480964312203265,\n",
       " 1,\n",
       " 0.96,\n",
       " 0.90210091810816,\n",
       " 0.0,\n",
       " 0.8583832575999999,\n",
       " 0.0688555831593534,\n",
       " -1.0,\n",
       " 1.0,\n",
       " 1.0,\n",
       " 0.96,\n",
       " 0.5126481945724239,\n",
       " -0.96,\n",
       " 0.8553726976,\n",
       " 1.0,\n",
       " 0.7954226149947042,\n",
       " 0.14657431158784012,\n",
       " 1,\n",
       " 0.89490024841216,\n",
       " 0.7269116876253916,\n",
       " -0.7973370597297674,\n",
       " 0.96,\n",
       " 0.9478771213382663,\n",
       " 1.0,\n",
       " 0.6526507155638364,\n",
       " 0.2291115775031045,\n",
       " -0.09664666942832648,\n",
       " 0.9180873371006151,\n",
       " -0.5121557855204799,\n",
       " 0.8469391637532021,\n",
       " 1.0,\n",
       " 0.03686400000000003,\n",
       " 1,\n",
       " 0.040000000000000036,\n",
       " 0.2485525218918402,\n",
       " 0.9216,\n",
       " -0.8831999999999999,\n",
       " -1,\n",
       " 0.14622730240000012,\n",
       " -0.8166517792367521,\n",
       " 0.0,\n",
       " 0.17877751170675948,\n",
       " 0,\n",
       " 0.5004131923201866,\n",
       " 0.9216,\n",
       " 1.0,\n",
       " 0.1152640000000001,\n",
       " 0.6333309539865568,\n",
       " 0.3319743944687107,\n",
       " 0.0,\n",
       " 0.924736,\n",
       " -0.96,\n",
       " -1.0,\n",
       " -1.0,\n",
       " 0.1152640000000001,\n",
       " 1,\n",
       " 1,\n",
       " 1.0,\n",
       " 0.1152640000000001,\n",
       " -1.0,\n",
       " 0.21764108628880582,\n",
       " 0.003136000000000007,\n",
       " 0.0,\n",
       " -0.8922366976,\n",
       " 0,\n",
       " 0.9754916097068094,\n",
       " 0.0,\n",
       " 0.040000000000000036,\n",
       " 0.040000000000000036,\n",
       " 0.0,\n",
       " 1,\n",
       " 0.0,\n",
       " 0.0,\n",
       " 0,\n",
       " 1,\n",
       " 0,\n",
       " -1.0,\n",
       " 0.0,\n",
       " 0.07840000000000007,\n",
       " 0.2786104210161666,\n",
       " 0,\n",
       " 0.0,\n",
       " 0,\n",
       " 1.0,\n",
       " 1.0,\n",
       " 1.0,\n",
       " 1,\n",
       " 1,\n",
       " 0,\n",
       " 1]"
      ]
     },
     "execution_count": 116,
     "metadata": {},
     "output_type": "execute_result"
    }
   ],
   "source": [
    "[score(x[1])[-1] for x in info]"
   ]
  },
  {
   "cell_type": "code",
   "execution_count": null,
   "metadata": {},
   "outputs": [],
   "source": []
  },
  {
   "cell_type": "code",
   "execution_count": null,
   "metadata": {},
   "outputs": [],
   "source": []
  },
  {
   "cell_type": "code",
   "execution_count": null,
   "metadata": {},
   "outputs": [],
   "source": []
  },
  {
   "cell_type": "code",
   "execution_count": null,
   "metadata": {},
   "outputs": [],
   "source": []
  },
  {
   "cell_type": "code",
   "execution_count": null,
   "metadata": {},
   "outputs": [],
   "source": []
  },
  {
   "cell_type": "code",
   "execution_count": 50,
   "metadata": {},
   "outputs": [
    {
     "data": {
      "text/plain": [
       "time\n",
       "2019-07-10 23:59:21    1\n",
       "Name: isFavorable, dtype: int64"
      ]
     },
     "execution_count": 50,
     "metadata": {},
     "output_type": "execute_result"
    }
   ],
   "source": [
    "serie"
   ]
  },
  {
   "cell_type": "code",
   "execution_count": 51,
   "metadata": {},
   "outputs": [
    {
     "data": {
      "text/plain": [
       "[263,\n",
       " time\n",
       " 2019-07-10 23:31:58    1\n",
       " Name: isFavorable, dtype: int64]"
      ]
     },
     "execution_count": 51,
     "metadata": {},
     "output_type": "execute_result"
    }
   ],
   "source": [
    "info[i-2]"
   ]
  },
  {
   "cell_type": "code",
   "execution_count": 54,
   "metadata": {},
   "outputs": [
    {
     "data": {
      "text/plain": [
       "[]"
      ]
     },
     "execution_count": 54,
     "metadata": {},
     "output_type": "execute_result"
    }
   ],
   "source": [
    "[serie[k] for k in range(1,len(serie)) if serie[k-1]==serie[k]]"
   ]
  },
  {
   "cell_type": "code",
   "execution_count": null,
   "metadata": {},
   "outputs": [],
   "source": []
  },
  {
   "cell_type": "code",
   "execution_count": null,
   "metadata": {},
   "outputs": [],
   "source": []
  },
  {
   "cell_type": "code",
   "execution_count": null,
   "metadata": {},
   "outputs": [],
   "source": []
  },
  {
   "cell_type": "code",
   "execution_count": null,
   "metadata": {},
   "outputs": [],
   "source": []
  },
  {
   "cell_type": "code",
   "execution_count": null,
   "metadata": {},
   "outputs": [],
   "source": []
  },
  {
   "cell_type": "code",
   "execution_count": null,
   "metadata": {},
   "outputs": [],
   "source": []
  },
  {
   "cell_type": "code",
   "execution_count": null,
   "metadata": {},
   "outputs": [],
   "source": []
  },
  {
   "cell_type": "code",
   "execution_count": null,
   "metadata": {},
   "outputs": [],
   "source": []
  },
  {
   "cell_type": "code",
   "execution_count": 17,
   "metadata": {},
   "outputs": [
    {
     "name": "stdout",
     "output_type": "stream",
     "text": [
      "3.9.0\n"
     ]
    }
   ],
   "source": [
    "from platform import python_version\n",
    "\n",
    "print(python_version())"
   ]
  },
  {
   "cell_type": "code",
   "execution_count": 18,
   "metadata": {},
   "outputs": [
    {
     "name": "stdout",
     "output_type": "stream",
     "text": [
      "['/Users/heitorbuenoponchioxavier/Documents/PythonScripts', '/usr/local/Cellar/python@3.9/3.9.0_1/Frameworks/Python.framework/Versions/3.9/lib/python39.zip', '/usr/local/Cellar/python@3.9/3.9.0_1/Frameworks/Python.framework/Versions/3.9/lib/python3.9', '/usr/local/Cellar/python@3.9/3.9.0_1/Frameworks/Python.framework/Versions/3.9/lib/python3.9/lib-dynload', '', '/usr/local/Cellar/jupyterlab/2.2.9_1/libexec/lib/python3.9/site-packages', '/usr/local/Cellar/jupyterlab/2.2.9_1/libexec/lib/python3.9/site-packages/IPython/extensions', '/Users/heitorbuenoponchioxavier/.ipython']\n"
     ]
    }
   ],
   "source": [
    "import sys\n",
    "\n",
    "print(sys.path)"
   ]
  },
  {
   "cell_type": "code",
   "execution_count": 4,
   "metadata": {},
   "outputs": [
    {
     "name": "stdout",
     "output_type": "stream",
     "text": [
      "Requirement already satisfied: pandas in /usr/local/lib/python3.9/site-packages (1.1.5)\r\n",
      "Requirement already satisfied: numpy in /usr/local/lib/python3.9/site-packages (1.19.4)\r\n",
      "Requirement already satisfied: pytz>=2017.2 in /usr/local/lib/python3.9/site-packages (from pandas) (2020.4)\r\n",
      "Requirement already satisfied: python-dateutil>=2.7.3 in /usr/local/lib/python3.9/site-packages (from pandas) (2.8.1)\r\n",
      "Requirement already satisfied: six>=1.5 in /usr/local/lib/python3.9/site-packages (from python-dateutil>=2.7.3->pandas) (1.15.0)\r\n"
     ]
    }
   ],
   "source": [
    "!pip3 install pandas numpy"
   ]
  },
  {
   "cell_type": "code",
   "execution_count": null,
   "metadata": {},
   "outputs": [],
   "source": []
  },
  {
   "cell_type": "code",
   "execution_count": null,
   "metadata": {},
   "outputs": [],
   "source": []
  }
 ],
 "metadata": {
  "kernelspec": {
   "display_name": "Python 3",
   "language": "python",
   "name": "python3"
  },
  "language_info": {
   "codemirror_mode": {
    "name": "ipython",
    "version": 3
   },
   "file_extension": ".py",
   "mimetype": "text/x-python",
   "name": "python",
   "nbconvert_exporter": "python",
   "pygments_lexer": "ipython3",
   "version": "3.9.0"
  }
 },
 "nbformat": 4,
 "nbformat_minor": 4
}
